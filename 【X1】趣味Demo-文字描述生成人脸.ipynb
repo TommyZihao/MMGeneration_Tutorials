{
 "cells": [
  {
   "cell_type": "markdown",
   "id": "d3663026-0b81-4a58-af90-22686e4d28f9",
   "metadata": {},
   "source": [
    "# MMGeneration 趣味Demo 文字描述生成人脸\n",
    "\n",
    "> 作者：[同济子豪兄](https://space.bilibili.com/1900783)、杨逸飞 2022-4-10"
   ]
  },
  {
   "cell_type": "markdown",
   "id": "6adf0fa3-24ae-4145-adf7-0d3a0c09bbbe",
   "metadata": {},
   "source": [
    "## 进入MMGeneration主目录¶"
   ]
  },
  {
   "cell_type": "code",
   "execution_count": 1,
   "id": "b840a387-f43f-44fe-99cc-00e50e7e1b44",
   "metadata": {},
   "outputs": [],
   "source": [
    "import os\n",
    "os.chdir('mmgeneration')"
   ]
  },
  {
   "cell_type": "markdown",
   "id": "a7f820fa-917a-4bad-96b8-1d42bb1c3547",
   "metadata": {},
   "source": [
    "## 配置环境"
   ]
  },
  {
   "cell_type": "code",
   "execution_count": 2,
   "id": "570278aa-14cf-4a73-b830-5741371333d7",
   "metadata": {},
   "outputs": [
    {
     "name": "stdout",
     "output_type": "stream",
     "text": [
      "--2022-05-09 09:42:07--  https://download.openmmlab.com/mmgen/stylegan2/stylegan2_c2_ffhq_256_b4x8_20210407_160709-7890ae1f.pth\n",
      "Connecting to 172.16.0.13:5848... connected.\n",
      "Proxy request sent, awaiting response... 200 OK\n",
      "Length: 357247352 (341M) [application/zip]\n",
      "Saving to: ‘checkpoints/stylegan2_c2_ffhq_256_b4x8_20210407_160709-7890ae1f.pth’\n",
      "\n",
      "checkpoints/stylega 100%[===================>] 340.70M  99.3MB/s    in 3.4s    \n",
      "\n",
      "2022-05-09 09:42:10 (99.3 MB/s) - ‘checkpoints/stylegan2_c2_ffhq_256_b4x8_20210407_160709-7890ae1f.pth’ saved [357247352/357247352]\n",
      "\n"
     ]
    }
   ],
   "source": [
    "# 下载模型权重文件\n",
    "!wget https://download.openmmlab.com/mmgen/stylegan2/stylegan2_c2_ffhq_256_b4x8_20210407_160709-7890ae1f.pth -O checkpoints/stylegan2_c2_ffhq_256_b4x8_20210407_160709-7890ae1f.pth"
   ]
  },
  {
   "cell_type": "code",
   "execution_count": 3,
   "id": "e7fc7291-adea-4eeb-affa-917deb396918",
   "metadata": {},
   "outputs": [
    {
     "name": "stdout",
     "output_type": "stream",
     "text": [
      "Looking in indexes: https://pypi.tuna.tsinghua.edu.cn/simple\n",
      "Collecting git+https://github.com/openai/CLIP.git\n",
      "  Cloning https://github.com/openai/CLIP.git to /tmp/pip-req-build-qk5i8cm6\n",
      "  Running command git clone -q https://github.com/openai/CLIP.git /tmp/pip-req-build-qk5i8cm6\n",
      "Collecting ftfy\n",
      "  Downloading https://pypi.tuna.tsinghua.edu.cn/packages/e1/1e/bf736f9576a8979752b826b75cbd83663ff86634ea3055a766e2d8ad3ee5/ftfy-6.1.1-py3-none-any.whl (53 kB)\n",
      "\u001b[K     |████████████████████████████████| 53 kB 27.0 MB/s eta 0:00:01\n",
      "\u001b[?25hCollecting regex\n",
      "  Downloading https://pypi.tuna.tsinghua.edu.cn/packages/9d/c9/b1b186355771ba302242028d09eb550e1bcd03d67a5f9792e478d79e85e5/regex-2022.4.24-cp37-cp37m-manylinux_2_17_x86_64.manylinux2014_x86_64.whl (749 kB)\n",
      "\u001b[K     |████████████████████████████████| 749 kB 59.5 MB/s eta 0:00:01\n",
      "\u001b[?25hRequirement already satisfied: tqdm in /environment/miniconda3/lib/python3.7/site-packages (from clip==1.0) (4.61.2)\n",
      "Requirement already satisfied: torch in /environment/miniconda3/lib/python3.7/site-packages (from clip==1.0) (1.10.1+cu113)\n",
      "Requirement already satisfied: torchvision in /environment/miniconda3/lib/python3.7/site-packages (from clip==1.0) (0.11.2+cu113)\n",
      "Requirement already satisfied: wcwidth>=0.2.5 in /environment/miniconda3/lib/python3.7/site-packages (from ftfy->clip==1.0) (0.2.5)\n",
      "Requirement already satisfied: typing-extensions in /environment/miniconda3/lib/python3.7/site-packages (from torch->clip==1.0) (4.0.1)\n",
      "Requirement already satisfied: pillow!=8.3.0,>=5.3.0 in /environment/miniconda3/lib/python3.7/site-packages (from torchvision->clip==1.0) (8.4.0)\n",
      "Requirement already satisfied: numpy in /environment/miniconda3/lib/python3.7/site-packages (from torchvision->clip==1.0) (1.21.4)\n",
      "Building wheels for collected packages: clip\n",
      "  Building wheel for clip (setup.py) ... \u001b[?25ldone\n",
      "\u001b[?25h  Created wheel for clip: filename=clip-1.0-py3-none-any.whl size=1369375 sha256=2042ca8d7bea7596810ecd3c66d4c86de3cf4c8e5b6ce4ae1f81f5a670722c39\n",
      "  Stored in directory: /tmp/pip-ephem-wheel-cache-w7lsu75l/wheels/fd/b9/c3/5b4470e35ed76e174bff77c92f91da82098d5e35fd5bc8cdac\n",
      "Successfully built clip\n",
      "Installing collected packages: regex, ftfy, clip\n",
      "Successfully installed clip-1.0 ftfy-6.1.1 regex-2022.4.24\n",
      "Looking in indexes: https://pypi.tuna.tsinghua.edu.cn/simple\n",
      "Requirement already satisfied: ftfy in /environment/miniconda3/lib/python3.7/site-packages (6.1.1)\n",
      "Requirement already satisfied: regex in /environment/miniconda3/lib/python3.7/site-packages (2022.4.24)\n",
      "Requirement already satisfied: tqdm in /environment/miniconda3/lib/python3.7/site-packages (4.61.2)\n",
      "Requirement already satisfied: wcwidth>=0.2.5 in /environment/miniconda3/lib/python3.7/site-packages (from ftfy) (0.2.5)\n"
     ]
    }
   ],
   "source": [
    "!pip install git+https://github.com/openai/CLIP.git\n",
    "!pip install ftfy regex tqdm"
   ]
  },
  {
   "cell_type": "markdown",
   "id": "4f4266c9-d8a0-4b21-9f2d-d06ba63ddff6",
   "metadata": {},
   "source": [
    "## 运行文字描述生成人脸"
   ]
  },
  {
   "cell_type": "code",
   "execution_count": 11,
   "id": "a1047584-30bf-4df3-a680-3d4b07ad6e86",
   "metadata": {},
   "outputs": [
    {
     "name": "stdout",
     "output_type": "stream",
     "text": [
      "set random seed to 2021\n",
      "load checkpoint from local path: checkpoints/stylegan2_c2_ffhq_256_b4x8_20210407_160709-7890ae1f.pth\n",
      "2022-05-07 13:52:04,106 - mmgen - INFO - Switch to evaluation style mode: single\n",
      "2022-05-07 13:52:04,107 - mmgen - INFO - Switch to evaluation style mode: single\n",
      "/environment/miniconda3/lib/python3.7/site-packages/clip/clip.py:54: ResourceWarning: unclosed file <_io.BufferedReader name='/home/featurize/.cache/clip/ViT-B-32.pt'>\n",
      "  if hashlib.sha256(open(download_target, \"rb\").read()).hexdigest() == expected_sha256:\n",
      "ResourceWarning: Enable tracemalloc to get the object allocation traceback\n",
      "2022-05-07 13:52:08,644 - mmgen - INFO - Loading ResNet ArcFace\n",
      "  0%|                                                   | 0/120 [00:00<?, ?it/s]Description: a girl with purple hair\n",
      "loss: 0.8057;:   0%|                                    | 0/120 [00:01<?, ?it/s]/environment/miniconda3/lib/python3.7/site-packages/torchvision/utils.py:50: UserWarning: range will be deprecated, please use value_range instead.\n",
      "  warnings.warn(warning)\n",
      "loss: 0.5439;: 100%|██████████████████████████| 120/120 [00:19<00:00,  6.08it/s]\n"
     ]
    }
   ],
   "source": [
    "!python apps/styleclip.py \\\n",
    "        configs/styleganv2/stylegan2_c2_ffhq_256_b4x8_800k.py \\\n",
    "        checkpoints/stylegan2_c2_ffhq_256_b4x8_20210407_160709-7890ae1f.pth \\\n",
    "        --description 'a girl with purple hair' \\\n",
    "        --step 120 \\\n",
    "        --results-dir outputs/X1_text2img/purple_hair"
   ]
  },
  {
   "cell_type": "code",
   "execution_count": 12,
   "id": "c3a4a85e-772d-4837-b948-4d78874d1173",
   "metadata": {},
   "outputs": [
    {
     "name": "stdout",
     "output_type": "stream",
     "text": [
      "set random seed to 2021\n",
      "load checkpoint from local path: checkpoints/stylegan2_c2_ffhq_256_b4x8_20210407_160709-7890ae1f.pth\n",
      "2022-05-07 13:52:40,673 - mmgen - INFO - Switch to evaluation style mode: single\n",
      "2022-05-07 13:52:40,674 - mmgen - INFO - Switch to evaluation style mode: single\n",
      "/environment/miniconda3/lib/python3.7/site-packages/clip/clip.py:54: ResourceWarning: unclosed file <_io.BufferedReader name='/home/featurize/.cache/clip/ViT-B-32.pt'>\n",
      "  if hashlib.sha256(open(download_target, \"rb\").read()).hexdigest() == expected_sha256:\n",
      "ResourceWarning: Enable tracemalloc to get the object allocation traceback\n",
      "2022-05-07 13:52:45,223 - mmgen - INFO - Loading ResNet ArcFace\n",
      "  0%|                                                   | 0/120 [00:00<?, ?it/s]Description: a boy with big nose\n",
      "loss: 0.8301;:   0%|                                    | 0/120 [00:01<?, ?it/s]/environment/miniconda3/lib/python3.7/site-packages/torchvision/utils.py:50: UserWarning: range will be deprecated, please use value_range instead.\n",
      "  warnings.warn(warning)\n",
      "loss: 0.5601;: 100%|██████████████████████████| 120/120 [00:19<00:00,  6.19it/s]\n"
     ]
    }
   ],
   "source": [
    "!python apps/styleclip.py \\\n",
    "        configs/styleganv2/stylegan2_c2_ffhq_256_b4x8_800k.py \\\n",
    "        checkpoints/stylegan2_c2_ffhq_256_b4x8_20210407_160709-7890ae1f.pth \\\n",
    "        --description 'a boy with big nose' \\\n",
    "        --step 120 \\\n",
    "        --results-dir outputs/X1_text2img/big_nose"
   ]
  },
  {
   "cell_type": "code",
   "execution_count": 13,
   "id": "9876a360-a1fb-46f1-9043-346c043aa2e3",
   "metadata": {},
   "outputs": [
    {
     "name": "stdout",
     "output_type": "stream",
     "text": [
      "set random seed to 2021\n",
      "load checkpoint from local path: checkpoints/stylegan2_c2_ffhq_256_b4x8_20210407_160709-7890ae1f.pth\n",
      "2022-05-07 13:53:16,385 - mmgen - INFO - Switch to evaluation style mode: single\n",
      "2022-05-07 13:53:16,386 - mmgen - INFO - Switch to evaluation style mode: single\n",
      "/environment/miniconda3/lib/python3.7/site-packages/clip/clip.py:54: ResourceWarning: unclosed file <_io.BufferedReader name='/home/featurize/.cache/clip/ViT-B-32.pt'>\n",
      "  if hashlib.sha256(open(download_target, \"rb\").read()).hexdigest() == expected_sha256:\n",
      "ResourceWarning: Enable tracemalloc to get the object allocation traceback\n",
      "2022-05-07 13:53:21,038 - mmgen - INFO - Loading ResNet ArcFace\n",
      "  0%|                                                   | 0/120 [00:00<?, ?it/s]Description: a boy with big eye\n",
      "loss: 0.8389;:   0%|                                    | 0/120 [00:01<?, ?it/s]/environment/miniconda3/lib/python3.7/site-packages/torchvision/utils.py:50: UserWarning: range will be deprecated, please use value_range instead.\n",
      "  warnings.warn(warning)\n",
      "loss: 0.5547;: 100%|██████████████████████████| 120/120 [00:18<00:00,  6.44it/s]\n"
     ]
    }
   ],
   "source": [
    "!python apps/styleclip.py \\\n",
    "        configs/styleganv2/stylegan2_c2_ffhq_256_b4x8_800k.py \\\n",
    "        checkpoints/stylegan2_c2_ffhq_256_b4x8_20210407_160709-7890ae1f.pth \\\n",
    "        --description 'a boy with big eye' \\\n",
    "        --step 120 \\\n",
    "        --results-dir outputs/X1_text2img/big_eye"
   ]
  },
  {
   "cell_type": "markdown",
   "id": "5cf68580-6989-4f87-8ec8-642d6b60e40a",
   "metadata": {},
   "source": [
    "### 图像变 GIF 动图"
   ]
  },
  {
   "cell_type": "code",
   "execution_count": 14,
   "id": "5f58cbb7-7029-4cc0-a8ca-173b052055e4",
   "metadata": {},
   "outputs": [
    {
     "name": "stderr",
     "output_type": "stream",
     "text": [
      "100%|██████████| 8/8 [00:00<00:00, 321.42it/s]\n"
     ]
    }
   ],
   "source": [
    "import cv2\n",
    "import numpy as np\n",
    "import glob\n",
    "from tqdm import tqdm\n",
    "\n",
    "imgs_path = 'outputs/X1_text2img/purple_hair'\n",
    "\n",
    "os.chdir(imgs_path)\n",
    "\n",
    "img_array = []\n",
    "for filename in tqdm(os.listdir()):\n",
    "    try:\n",
    "        if filename == 'final_result.png':\n",
    "            continue\n",
    "        img = cv2.imread(filename)\n",
    "        height, width, layers = img.shape\n",
    "        size = (width,height)\n",
    "        img_array.append(img)\n",
    "    except:\n",
    "        pass\n",
    "\n",
    "topic = imgs_path.split('/')[-1]\n",
    "out = cv2.VideoWriter('../text2img_{}.mp4'.format(topic), cv2.VideoWriter_fourcc(*'mp4v'), 15, size)\n",
    " \n",
    "for i in range(len(img_array)):\n",
    "    out.write(img_array[i])\n",
    "out.release()\n",
    "\n",
    "os.chdir('../../../')"
   ]
  },
  {
   "cell_type": "code",
   "execution_count": null,
   "id": "cc69d547-abce-4760-a50f-38f9f10895dd",
   "metadata": {},
   "outputs": [],
   "source": []
  }
 ],
 "metadata": {
  "kernelspec": {
   "display_name": "Python 3 (ipykernel)",
   "language": "python",
   "name": "python3"
  },
  "language_info": {
   "codemirror_mode": {
    "name": "ipython",
    "version": 3
   },
   "file_extension": ".py",
   "mimetype": "text/x-python",
   "name": "python",
   "nbconvert_exporter": "python",
   "pygments_lexer": "ipython3",
   "version": "3.7.10"
  }
 },
 "nbformat": 4,
 "nbformat_minor": 5
}
