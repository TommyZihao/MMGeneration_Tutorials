{
 "cells": [
  {
   "cell_type": "markdown",
   "id": "5ca78897-3cdc-4414-866d-2a3b1d912141",
   "metadata": {},
   "source": [
    "# 人像自拍秒变爆款动漫画风 Face Stylor\n",
    "\n",
    "代码视频教程：https://www.bilibili.com/video/BV1XL4y1g7in\n",
    "\n",
    "代码(在Colab中运行)：https://colab.research.google.com/drive/1hovHLKr0Vfa332LN-bBPAwyBe5WIc583?usp=sharing\n",
    "\n",
    "Face Stylor在线网页demo：https://app.openmmlab.com/facestylor\n",
    "\n",
    "Face Stylor主页：https://github.com/open-mmlab/MMGEN-FaceStylor\n",
    "\n",
    "世界名画风格迁移教程：https://www.bilibili.com/video/BV1i64y1B72P\n",
    "\n"
   ]
  }
 ],
 "metadata": {
  "kernelspec": {
   "display_name": "Python 3 (ipykernel)",
   "language": "python",
   "name": "python3"
  },
  "language_info": {
   "codemirror_mode": {
    "name": "ipython",
    "version": 3
   },
   "file_extension": ".py",
   "mimetype": "text/x-python",
   "name": "python",
   "nbconvert_exporter": "python",
   "pygments_lexer": "ipython3",
   "version": "3.7.10"
  }
 },
 "nbformat": 4,
 "nbformat_minor": 5
}
