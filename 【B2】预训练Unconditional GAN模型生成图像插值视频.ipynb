{
 "cells": [
  {
   "cell_type": "markdown",
   "id": "2439080b-3901-414a-a6aa-47a1667943fb",
   "metadata": {},
   "source": [
    "# 预训练Unconditional GAN模型生成图像插值视频"
   ]
  },
  {
   "cell_type": "markdown",
   "id": "eea82065-7657-44f7-bf60-3dcc74c94d67",
   "metadata": {
    "tags": []
   },
   "source": [
    "在 MMGeneration 中调用 Unconditional GAN（非条件生成对抗网络）预训练模型，生成若干张图像的平滑插值过渡视频\n",
    "\n",
    "> 作者：[同济子豪兄](https://space.bilibili.com/1900783)、杨逸飞 2022-4-9"
   ]
  },
  {
   "cell_type": "markdown",
   "id": "4efabc1d-8470-41cb-8098-7b845a08b56e",
   "metadata": {},
   "source": [
    "## 进入MMGeneration主目录"
   ]
  },
  {
   "cell_type": "code",
   "execution_count": 1,
   "id": "d87c61c2-a8bf-47d9-b9a8-4ca4e06b6a76",
   "metadata": {},
   "outputs": [],
   "source": [
    "import os\n",
    "os.chdir('mmgeneration')"
   ]
  },
  {
   "cell_type": "markdown",
   "id": "a2e63e76-01b3-432f-86eb-03f065fe1302",
   "metadata": {},
   "source": [
    "## 图像插值视频生成命令行"
   ]
  },
  {
   "cell_type": "code",
   "execution_count": 2,
   "id": "2c185995-b702-4fee-af7f-b94837784e77",
   "metadata": {},
   "outputs": [
    {
     "name": "stdout",
     "output_type": "stream",
     "text": [
      "usage: interpolate_sample.py [-h] [--use-cpu] [--export-video] [--seed SEED]\n",
      "                             [--deterministic] [--samples-path SAMPLES_PATH]\n",
      "                             [--sample-model SAMPLE_MODEL]\n",
      "                             [--show-mode {group,sequence}]\n",
      "                             [--interp-mode {lerp,slerp}]\n",
      "                             [--proj-latent PROJ_LATENT] [--endpoint ENDPOINT]\n",
      "                             [--batch-size BATCH_SIZE] [--interval INTERVAL]\n",
      "                             [--space {z,w}]\n",
      "                             [--sample-cfg SAMPLE_CFG [SAMPLE_CFG ...]]\n",
      "                             config checkpoint\n",
      "\n",
      "Sampling from latents' interpolation\n",
      "\n",
      "positional arguments:\n",
      "  config                evaluation config file path\n",
      "  checkpoint            checkpoint file\n",
      "\n",
      "optional arguments:\n",
      "  -h, --help            show this help message and exit\n",
      "  --use-cpu             whether to use cpu device for sampling\n",
      "  --export-video        If true, export video rather than images\n",
      "  --seed SEED           random seed\n",
      "  --deterministic       whether to set deterministic options for CUDNN\n",
      "                        backend.\n",
      "  --samples-path SAMPLES_PATH\n",
      "                        path to store images.\n",
      "  --sample-model SAMPLE_MODEL\n",
      "                        use which mode (ema/orig) in sampling.\n",
      "  --show-mode {group,sequence}\n",
      "                        mode to show interpolation result.\n",
      "  --interp-mode {lerp,slerp}\n",
      "                        mode to sample from endpoints's interpolation.\n",
      "  --proj-latent PROJ_LATENT\n",
      "                        Projection image files produced by\n",
      "                        stylegan_projector.py. If this argument is given, then\n",
      "                        the projected latent will be used as the input noise.\n",
      "  --endpoint ENDPOINT   The number of endpoints.\n",
      "  --batch-size BATCH_SIZE\n",
      "                        batch size used in generator sampling.\n",
      "  --interval INTERVAL   The number of intervals between two endpoints.\n",
      "  --space {z,w}         Interpolation space.\n",
      "  --sample-cfg SAMPLE_CFG [SAMPLE_CFG ...]\n",
      "                        Other customized kwargs for sampling function\n"
     ]
    }
   ],
   "source": [
    "!python apps/interpolate_sample.py -h"
   ]
  },
  {
   "cell_type": "markdown",
   "id": "64cfef44-7446-45bb-886c-da768e3dd46a",
   "metadata": {},
   "source": [
    "注意，`config_file`和`checkpoint_file`需要对应。\n",
    "\n",
    "StyleGAN-V2文档：https://github.com/open-mmlab/mmgeneration/tree/master/configs/styleganv2"
   ]
  },
  {
   "cell_type": "markdown",
   "id": "94ca58e2-da5d-4de5-b5d1-1002914389ed",
   "metadata": {
    "tags": []
   },
   "source": [
    "## StyleGAN V2 生成教堂图像插值视频"
   ]
  },
  {
   "cell_type": "code",
   "execution_count": 2,
   "id": "a0849444-e971-46c8-9aeb-b26b637cd2a1",
   "metadata": {},
   "outputs": [
    {
     "name": "stdout",
     "output_type": "stream",
     "text": [
      "set random seed to 2021\n",
      "load checkpoint from http path: https://download.openmmlab.com/mmgen/stylegan2/official_weights/stylegan2-church-config-f-official_20210327_172657-1d42b7d1.pth\n",
      "2022-05-08 21:42:43,827 - mmgen - INFO - Sampling model: ema\n",
      "2022-05-08 21:42:43,827 - mmgen - INFO - Show mode: sequence\n",
      "2022-05-08 21:42:43,827 - mmgen - INFO - Samples path: outputs/B2/church\n",
      "2022-05-08 21:42:43,827 - mmgen - INFO - Switch to evaluation style mode: single\n"
     ]
    }
   ],
   "source": [
    "# StyleGAN V2 教堂\n",
    "!python apps/interpolate_sample.py \\\n",
    "        configs/styleganv2/stylegan2_c2_lsun-church_256_b4x8_800k.py \\\n",
    "        https://download.openmmlab.com/mmgen/stylegan2/official_weights/stylegan2-church-config-f-official_20210327_172657-1d42b7d1.pth \\\n",
    "        --export-video \\\n",
    "        --samples-path outputs/B2/church \\\n",
    "        --interval 150 \\\n",
    "        --endpoint 7 \\\n",
    "        --space w \\\n",
    "        --sample-cfg randomize_noise=False"
   ]
  },
  {
   "cell_type": "markdown",
   "id": "2638ac50-e51d-49f3-a753-0c3b0ab534bf",
   "metadata": {},
   "source": [
    "## StyleGAN V2 生成汽车图像插值视频"
   ]
  },
  {
   "cell_type": "code",
   "execution_count": 3,
   "id": "77daf6cf-1c81-4e1b-a973-4cbc0183cb03",
   "metadata": {},
   "outputs": [
    {
     "name": "stdout",
     "output_type": "stream",
     "text": [
      "set random seed to 2021\n",
      "load checkpoint from http path: https://download.openmmlab.com/mmgen/stylegan2/stylegan2_c2_lsun-car_384x512_b4x8_1800k_20210424_160929-fc9072ca.pth\n",
      "2022-05-08 21:43:57,090 - mmgen - INFO - Sampling model: ema\n",
      "2022-05-08 21:43:57,090 - mmgen - INFO - Show mode: sequence\n",
      "2022-05-08 21:43:57,090 - mmgen - INFO - Samples path: outputs/B2/car\n",
      "2022-05-08 21:43:57,090 - mmgen - INFO - Switch to evaluation style mode: single\n"
     ]
    }
   ],
   "source": [
    "# StyleGAN V2 汽车\n",
    "!python apps/interpolate_sample.py \\\n",
    "        configs/styleganv2/stylegan2_c2_lsun-car_384x512_b4x8.py \\\n",
    "        https://download.openmmlab.com/mmgen/stylegan2/stylegan2_c2_lsun-car_384x512_b4x8_1800k_20210424_160929-fc9072ca.pth \\\n",
    "        --export-video \\\n",
    "        --samples-path outputs/B2/car \\\n",
    "        --interval 150 \\\n",
    "        --endpoint 5 \\\n",
    "        --space w \\\n",
    "        --sample-cfg randomize_noise=False"
   ]
  },
  {
   "cell_type": "markdown",
   "id": "e24c5721-2e54-4df4-bd0c-4e01bb1fb099",
   "metadata": {},
   "source": [
    "## StyleGAN V2 生成人脸图像插值视频"
   ]
  },
  {
   "cell_type": "code",
   "execution_count": 4,
   "id": "7e7638d4-3f18-4ab2-8669-4aecae95fc9a",
   "metadata": {},
   "outputs": [
    {
     "name": "stdout",
     "output_type": "stream",
     "text": [
      "set random seed to 2021\n",
      "load checkpoint from http path: https://download.openmmlab.com/mmgen/stylegan2/stylegan2_c2_ffhq_1024_b4x8_20210407_150045-618c9024.pth\n",
      "2022-05-08 21:44:34,421 - mmgen - INFO - Sampling model: ema\n",
      "2022-05-08 21:44:34,421 - mmgen - INFO - Show mode: sequence\n",
      "2022-05-08 21:44:34,422 - mmgen - INFO - Samples path: outputs/B2/styleganv2_human_face\n",
      "2022-05-08 21:44:34,422 - mmgen - INFO - Switch to evaluation style mode: single\n"
     ]
    }
   ],
   "source": [
    "# StyleGAN V2 人脸\n",
    "!python apps/interpolate_sample.py \\\n",
    "            configs/styleganv2/stylegan2_c2_ffhq_1024_b4x8.py \\\n",
    "            https://download.openmmlab.com/mmgen/stylegan2/stylegan2_c2_ffhq_1024_b4x8_20210407_150045-618c9024.pth \\\n",
    "            --export-video \\\n",
    "            --samples-path outputs/B2/styleganv2_human_face \\\n",
    "            --interval 80 \\\n",
    "            --endpoint 5 \\\n",
    "            --sample-cfg randomize_noise=False"
   ]
  },
  {
   "cell_type": "markdown",
   "id": "08e95953-357f-4d83-9bf3-87f426b56c32",
   "metadata": {},
   "source": [
    "## StyleGAN V3 生成动物脸图像插值视频"
   ]
  },
  {
   "cell_type": "code",
   "execution_count": 5,
   "id": "ccdc0a6c-9633-4883-8f86-b1f0764d678e",
   "metadata": {},
   "outputs": [
    {
     "name": "stdout",
     "output_type": "stream",
     "text": [
      "set random seed to 2021\n",
      "load checkpoint from http path: https://download.openmmlab.com/mmgen/stylegan3/stylegan3_t_afhqv2_512_b4x8_cvt_official_rgb_20220329_235017-ee6b037a.pth\n",
      "2022-05-08 21:45:08,819 - mmgen - INFO - Sampling model: ema\n",
      "2022-05-08 21:45:08,820 - mmgen - INFO - Show mode: sequence\n",
      "2022-05-08 21:45:08,820 - mmgen - INFO - Samples path: outputs/B2/styleganv3_animal_face\n",
      "2022-05-08 21:45:17,625 - mmgen - INFO - Hint: For Style-Based GAN, you can add\n",
      "            `--sample-cfg randomize_noise=False` to fix injected noises\n",
      "Setting up PyTorch plugin \"bias_act_plugin\"... Done.\n",
      "Setting up PyTorch plugin \"filtered_lrelu_plugin\"... Done.\n"
     ]
    }
   ],
   "source": [
    "# StyleGAN V3 动物脸\n",
    "!python apps/interpolate_sample.py \\\n",
    "        configs/_base_/models/stylegan/stylegan3_t_afhqv2_512_b4x8_cvt_official_rgb.py \\\n",
    "        https://download.openmmlab.com/mmgen/stylegan3/stylegan3_t_afhqv2_512_b4x8_cvt_official_rgb_20220329_235017-ee6b037a.pth \\\n",
    "        --export-video \\\n",
    "        --samples-path outputs/B2/styleganv3_animal_face \\\n",
    "        --interval 150 \\\n",
    "        --endpoint 5 \\\n",
    "        --space z \\\n",
    "        --seed 2021 \\\n",
    "        --sample-cfg truncation=0.8"
   ]
  },
  {
   "cell_type": "markdown",
   "id": "7152eb8e-10bf-4722-996d-767374dde0f0",
   "metadata": {},
   "source": [
    "## StyleGAN V3 生成人脸图像插值视频"
   ]
  },
  {
   "cell_type": "code",
   "execution_count": 6,
   "id": "a72eed1f-6f95-4d58-9fa5-a19c9a8aae7d",
   "metadata": {},
   "outputs": [
    {
     "name": "stdout",
     "output_type": "stream",
     "text": [
      "set random seed to 2022\n",
      "load checkpoint from http path: https://download.openmmlab.com/mmgen/stylegan3/stylegan3_t_ffhq_1024_b4x8_cvt_official_rgb_20220329_235113-db6c6580.pth\n",
      "2022-05-08 21:46:02,722 - mmgen - INFO - Sampling model: ema\n",
      "2022-05-08 21:46:02,722 - mmgen - INFO - Show mode: sequence\n",
      "2022-05-08 21:46:02,722 - mmgen - INFO - Samples path: outputs/B2/styleganv3_human_face\n",
      "2022-05-08 21:46:09,357 - mmgen - INFO - Hint: For Style-Based GAN, you can add\n",
      "            `--sample-cfg randomize_noise=False` to fix injected noises\n",
      "Setting up PyTorch plugin \"bias_act_plugin\"... Done.\n",
      "Setting up PyTorch plugin \"filtered_lrelu_plugin\"... Done.\n"
     ]
    }
   ],
   "source": [
    "# StyleGAN V3 人脸\n",
    "!python apps/interpolate_sample.py \\\n",
    "        configs/_base_/models/stylegan/stylegan3_t_ffhq_1024_b4x8_cvt_official_rgb.py \\\n",
    "        https://download.openmmlab.com/mmgen/stylegan3/stylegan3_t_ffhq_1024_b4x8_cvt_official_rgb_20220329_235113-db6c6580.pth \\\n",
    "        --export-video \\\n",
    "        --samples-path outputs/B2/styleganv3_human_face \\\n",
    "        --endpoint 6 \\\n",
    "        --interval 60 \\\n",
    "        --space z \\\n",
    "        --seed 2022 \\\n",
    "        --sample-cfg truncation=0.8"
   ]
  },
  {
   "cell_type": "code",
   "execution_count": null,
   "id": "36e85bda-5172-4cac-a6c2-b07a74770a20",
   "metadata": {},
   "outputs": [],
   "source": []
  }
 ],
 "metadata": {
  "kernelspec": {
   "display_name": "Python 3 (ipykernel)",
   "language": "python",
   "name": "python3"
  },
  "language_info": {
   "codemirror_mode": {
    "name": "ipython",
    "version": 3
   },
   "file_extension": ".py",
   "mimetype": "text/x-python",
   "name": "python",
   "nbconvert_exporter": "python",
   "pygments_lexer": "ipython3",
   "version": "3.7.10"
  }
 },
 "nbformat": 4,
 "nbformat_minor": 5
}
