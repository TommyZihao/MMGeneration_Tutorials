{
 "cells": [
  {
   "cell_type": "markdown",
   "id": "2faf2d18-f738-42dd-b038-4f3bf713567d",
   "metadata": {},
   "source": [
    "# 预训练Conditional GAN模型生成图像插值视频"
   ]
  },
  {
   "cell_type": "markdown",
   "id": "44148d35-55c0-47c1-bc31-12e7890dc61d",
   "metadata": {},
   "source": [
    "在 MMGeneration 中调用 Conditional GAN（条件生成对抗网络）预训练模型，生成若干张图像的平滑插值过渡视频\n",
    "\n",
    "> 作者：[同济子豪兄](https://space.bilibili.com/1900783)、杨逸飞 2022-4-9"
   ]
  },
  {
   "cell_type": "markdown",
   "id": "b26f04f3-c663-42ee-a344-663b45c32a7d",
   "metadata": {},
   "source": [
    "## 进入MMGeneration主目录"
   ]
  },
  {
   "cell_type": "code",
   "execution_count": 1,
   "id": "01fbcfcc-e626-4926-93fb-10954715e503",
   "metadata": {},
   "outputs": [],
   "source": [
    "import os\n",
    "os.chdir('mmgeneration')"
   ]
  },
  {
   "cell_type": "markdown",
   "id": "f804898a-dd98-4458-8ecc-635a880079de",
   "metadata": {},
   "source": [
    "## 图像插值视频生成命令行"
   ]
  },
  {
   "cell_type": "markdown",
   "id": "b44aa3e9-ed7d-49ad-bd4c-514a659c99a3",
   "metadata": {},
   "source": [
    "注意，`config_file`和`checkpoint_file`需要对应。"
   ]
  },
  {
   "cell_type": "code",
   "execution_count": 3,
   "id": "48e36d4b-53f0-4d70-873f-3121999bd5b9",
   "metadata": {},
   "outputs": [
    {
     "name": "stdout",
     "output_type": "stream",
     "text": [
      "usage: conditional_interpolate.py [-h] [--use-cpu]\n",
      "                                  [--embedding-name EMBEDDING_NAME] [--fix-z]\n",
      "                                  [--fix-y] [--seed SEED] [--deterministic]\n",
      "                                  [--samples-path SAMPLES_PATH]\n",
      "                                  [--sample-model SAMPLE_MODEL]\n",
      "                                  [--show-mode {group,sequence}]\n",
      "                                  [--interp-mode {lerp,slerp}]\n",
      "                                  [--endpoint ENDPOINT]\n",
      "                                  [--batch-size BATCH_SIZE]\n",
      "                                  [--interval INTERVAL]\n",
      "                                  [--sample-cfg SAMPLE_CFG [SAMPLE_CFG ...]]\n",
      "                                  config checkpoint\n",
      "\n",
      "Sampling from latents' interpolation\n",
      "\n",
      "positional arguments:\n",
      "  config                evaluation config file path\n",
      "  checkpoint            checkpoint file\n",
      "\n",
      "optional arguments:\n",
      "  -h, --help            show this help message and exit\n",
      "  --use-cpu             whether to use cpu device for sampling\n",
      "  --embedding-name EMBEDDING_NAME\n",
      "                        name of conditional model's embedding layer\n",
      "  --fix-z               whether to fix the noise for conditional model\n",
      "  --fix-y               whether to fix the label for conditional model\n",
      "  --seed SEED           random seed\n",
      "  --deterministic       whether to set deterministic options for CUDNN\n",
      "                        backend.\n",
      "  --samples-path SAMPLES_PATH\n",
      "                        path to store images.\n",
      "  --sample-model SAMPLE_MODEL\n",
      "                        use which mode (ema/orig) in sampling.\n",
      "  --show-mode {group,sequence}\n",
      "                        mode to show interpolation result.\n",
      "  --interp-mode {lerp,slerp}\n",
      "                        mode to sample from endpoints's interpolation.\n",
      "  --endpoint ENDPOINT   The number of endpoints.\n",
      "  --batch-size BATCH_SIZE\n",
      "                        batch size used in generator sampling.\n",
      "  --interval INTERVAL   The number of intervals between two endpoints.\n",
      "  --sample-cfg SAMPLE_CFG [SAMPLE_CFG ...]\n",
      "                        Other customized kwargs for sampling function\n"
     ]
    }
   ],
   "source": [
    "!python apps/conditional_interpolate.py -h"
   ]
  },
  {
   "cell_type": "markdown",
   "id": "e4d1b9e7-592c-491d-ad53-23ad6c25c4f4",
   "metadata": {},
   "source": [
    "文档：https://github.com/open-mmlab/mmgeneration/blob/master/configs/biggan/README.md"
   ]
  },
  {
   "cell_type": "markdown",
   "id": "61448f9a-c4e3-4768-b26d-c87badbcd96c",
   "metadata": {},
   "source": [
    "--fix-z  固定噪声\n",
    "\n",
    "--fix-y  固定类别"
   ]
  },
  {
   "cell_type": "code",
   "execution_count": 2,
   "id": "4e517212-e472-4036-a4e5-26d66c8d8692",
   "metadata": {},
   "outputs": [
    {
     "name": "stdout",
     "output_type": "stream",
     "text": [
      "set random seed to 2021\n",
      "/environment/miniconda3/lib/python3.7/site-packages/mmcv/cnn/bricks/conv_module.py:151: UserWarning: Unnecessary conv bias before batch/instance norm\n",
      "  'Unnecessary conv bias before batch/instance norm')\n",
      "load checkpoint from http path: https://download.openmmlab.com/mmgen/biggan/biggan-deep_imagenet1k_512x512_cvt_hugging-face_rgb_20210728_112346-a42585f2.pth\n",
      "2022-05-08 21:55:48,935 - mmgen - INFO - Sampling model: ema\n",
      "2022-05-08 21:55:48,935 - mmgen - INFO - Show mode: sequence\n",
      "2022-05-08 21:55:48,935 - mmgen - INFO - Samples path: outputs/D2/images/\n"
     ]
    }
   ],
   "source": [
    "!python apps/conditional_interpolate.py \\\n",
    "        configs/_base_/models/biggan/biggan-deep_512x512_cvt_hugging-face_rgb.py \\\n",
    "        https://download.openmmlab.com/mmgen/biggan/biggan-deep_imagenet1k_512x512_cvt_hugging-face_rgb_20210728_112346-a42585f2.pth \\\n",
    "        --endpoint 8 \\\n",
    "        --fix-y \\\n",
    "        --samples-path outputs/D2/images/"
   ]
  },
  {
   "cell_type": "markdown",
   "id": "c837da65-e137-47ff-ba09-0a0c6494cb01",
   "metadata": {},
   "source": [
    "## 图像变 GIF 动图"
   ]
  },
  {
   "cell_type": "code",
   "execution_count": 3,
   "id": "e95989b1-76d4-4f56-9612-953abd6c6ebc",
   "metadata": {},
   "outputs": [
    {
     "name": "stderr",
     "output_type": "stream",
     "text": [
      "100%|██████████| 70/70 [00:00<00:00, 80.91it/s]\n"
     ]
    }
   ],
   "source": [
    "import cv2\n",
    "import numpy as np\n",
    "import glob\n",
    "from tqdm import tqdm\n",
    "\n",
    "os.chdir('outputs/D2/images')\n",
    "img_array = []\n",
    "for filename in tqdm(os.listdir()):\n",
    "    try:\n",
    "        img = cv2.imread(filename)\n",
    "        height, width, layers = img.shape\n",
    "        size = (width,height)\n",
    "        img_array.append(img)\n",
    "    except:\n",
    "        pass\n",
    "\n",
    "out = cv2.VideoWriter('../D2.mp4',cv2.VideoWriter_fourcc(*'mp4v'), 15, size)\n",
    " \n",
    "for i in range(len(img_array)):\n",
    "    out.write(img_array[i])\n",
    "out.release()\n",
    "\n",
    "# 返回 mmgeneration 主目录\n",
    "os.chdir('../../../')"
   ]
  },
  {
   "cell_type": "code",
   "execution_count": 4,
   "id": "6a3f4501-1ff5-4ed7-bf67-37d017d62f28",
   "metadata": {},
   "outputs": [
    {
     "data": {
      "text/plain": [
       "'/home/featurize/work/MMGeneration教程/0509/mmgeneration'"
      ]
     },
     "execution_count": 4,
     "metadata": {},
     "output_type": "execute_result"
    }
   ],
   "source": [
    "os.getcwd()"
   ]
  },
  {
   "cell_type": "code",
   "execution_count": null,
   "id": "4e9a864e-0cbf-4141-ad4f-fb9de869fb7f",
   "metadata": {},
   "outputs": [],
   "source": []
  }
 ],
 "metadata": {
  "kernelspec": {
   "display_name": "Python 3 (ipykernel)",
   "language": "python",
   "name": "python3"
  },
  "language_info": {
   "codemirror_mode": {
    "name": "ipython",
    "version": 3
   },
   "file_extension": ".py",
   "mimetype": "text/x-python",
   "name": "python",
   "nbconvert_exporter": "python",
   "pygments_lexer": "ipython3",
   "version": "3.7.10"
  }
 },
 "nbformat": 4,
 "nbformat_minor": 5
}
