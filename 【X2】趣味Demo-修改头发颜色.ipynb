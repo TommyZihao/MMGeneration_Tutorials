{
 "cells": [
  {
   "cell_type": "markdown",
   "id": "eafd6158-be5d-4b15-a1fd-25762cab4486",
   "metadata": {},
   "source": [
    "# MMGeneration 趣味Demo 修改头发颜色\n",
    "\n",
    "> 作者：[同济子豪兄](https://space.bilibili.com/1900783)、杨逸飞 2022-4-10"
   ]
  },
  {
   "cell_type": "markdown",
   "id": "ac396e7a-1748-4bdf-87b5-ca99fe1e4939",
   "metadata": {},
   "source": [
    "论文：Positional Encoding as Spatial Inductive Bias in GANs, CVPR2021"
   ]
  },
  {
   "cell_type": "markdown",
   "id": "6adf0fa3-24ae-4145-adf7-0d3a0c09bbbe",
   "metadata": {},
   "source": [
    "## 进入MMGeneration主目录¶"
   ]
  },
  {
   "cell_type": "code",
   "execution_count": 1,
   "id": "b840a387-f43f-44fe-99cc-00e50e7e1b44",
   "metadata": {},
   "outputs": [
    {
     "data": {
      "text/plain": [
       "['.git',\n",
       " '.dev_scripts',\n",
       " '.github',\n",
       " '.gitignore',\n",
       " '.pre-commit-config.yaml',\n",
       " '.pylintrc',\n",
       " '.readthedocs.yml',\n",
       " 'CITATION.cff',\n",
       " 'LICENSE',\n",
       " 'LICENSES.md',\n",
       " 'MANIFEST.in',\n",
       " 'README.md',\n",
       " 'README_zh-CN.md',\n",
       " 'apps',\n",
       " 'configs',\n",
       " 'demo',\n",
       " 'docker',\n",
       " 'docs',\n",
       " 'mmgen',\n",
       " 'model-index.yml',\n",
       " 'requirements.txt',\n",
       " 'requirements',\n",
       " 'setup.cfg',\n",
       " 'setup.py',\n",
       " 'tests',\n",
       " 'tools',\n",
       " 'mmgen.egg-info',\n",
       " 'outputs',\n",
       " 'data',\n",
       " 'checkpoints',\n",
       " 'work_dirs',\n",
       " '.ipynb_checkpoints',\n",
       " '20220506153235-plot',\n",
       " 'temp.jpg',\n",
       " '20220506153939',\n",
       " '20220506153939-plot',\n",
       " '20220506154314',\n",
       " '20220506154314-plot',\n",
       " '20220506154822',\n",
       " '20220506154822-plot',\n",
       " '20220506155137',\n",
       " '20220506155137-plot',\n",
       " '20220506160404',\n",
       " '20220506160426',\n",
       " '20220506160534']"
      ]
     },
     "execution_count": 1,
     "metadata": {},
     "output_type": "execute_result"
    }
   ],
   "source": [
    "import os\n",
    "os.chdir('mmgeneration')\n",
    "os.listdir()"
   ]
  },
  {
   "cell_type": "markdown",
   "id": "66ba49e8-7e32-4f6e-93bb-c966f2ce3c95",
   "metadata": {},
   "source": [
    "## 头发颜色修改"
   ]
  },
  {
   "cell_type": "code",
   "execution_count": 2,
   "id": "9812cb2f-51ed-4d54-aa9e-c2df55ab8443",
   "metadata": {},
   "outputs": [
    {
     "name": "stdout",
     "output_type": "stream",
     "text": [
      "--2022-05-07 13:57:30--  https://download.openmmlab.com/mmgen/stylegan2/stylegan2_c2_ffhq_256_b4x8_20210407_160709-7890ae1f.pth\n",
      "Connecting to 172.16.0.13:5848... connected.\n",
      "Proxy request sent, awaiting response... 200 OK\n",
      "Length: 357247352 (341M) [application/zip]\n",
      "Saving to: ‘checkpoints/stylegan2_c2_ffhq_256_b4x8_20210407_160709-7890ae1f.pth’\n",
      "\n",
      "checkpoints/stylega 100%[===================>] 340.70M   105MB/s    in 3.2s    \n",
      "\n",
      "2022-05-07 13:57:34 (105 MB/s) - ‘checkpoints/stylegan2_c2_ffhq_256_b4x8_20210407_160709-7890ae1f.pth’ saved [357247352/357247352]\n",
      "\n"
     ]
    }
   ],
   "source": [
    "# 下载模型权重文件\n",
    "!wget https://download.openmmlab.com/mmgen/stylegan2/stylegan2_c2_ffhq_256_b4x8_20210407_160709-7890ae1f.pth -O checkpoints/stylegan2_c2_ffhq_256_b4x8_20210407_160709-7890ae1f.pth"
   ]
  },
  {
   "cell_type": "markdown",
   "id": "aeefcdcb-46b3-436c-b8d4-c524b02e0e79",
   "metadata": {},
   "source": [
    "i 头发颜色变化\n",
    "\n",
    "d 变化程度\n",
    "\n",
    "l 修改前几层的latent"
   ]
  },
  {
   "cell_type": "code",
   "execution_count": 3,
   "id": "6e27aa05-aa6b-4577-a21c-a4487a7b376d",
   "metadata": {},
   "outputs": [
    {
     "name": "stdout",
     "output_type": "stream",
     "text": [
      "2022-05-07 13:57:51,351 - mmgen - INFO - Building models and loading checkpoints\n",
      "2022-05-07 13:57:52,383 - mmgen - INFO - Switch to evaluation style mode: single\n",
      "2022-05-07 13:57:52,384 - mmgen - INFO - Switch to evaluation style mode: single\n",
      "load checkpoint from local path: checkpoints/stylegan2_c2_ffhq_256_b4x8_20210407_160709-7890ae1f.pth\n",
      "2022-05-07 13:57:58,440 - mmgen - INFO - Calculating or loading eigen vectors\n",
      "2022-05-07 13:57:58,493 - mmgen - INFO - Sampling images with modified SeFa\n",
      "/environment/miniconda3/lib/python3.7/site-packages/torchvision/utils.py:50: UserWarning: range will be deprecated, please use value_range instead.\n",
      "  warnings.warn(warning)\n",
      "2022-05-07 13:58:04,120 - mmgen - INFO - Save images to outputs/X2_sefa//entangle-i15-d[8.0]-t0.5-l[8, 9]_002022.png\n"
     ]
    }
   ],
   "source": [
    "!python apps/modified_sefa.py \\\n",
    "    --config configs/styleganv2/stylegan2_c2_ffhq_256_b4x8_800k.py \\\n",
    "    --ckpt checkpoints/stylegan2_c2_ffhq_256_b4x8_20210407_160709-7890ae1f.pth \\\n",
    "    -i 15 \\\n",
    "    -d 8. \\\n",
    "    --degree-step 0.5 \\\n",
    "    -l 8 9 \\\n",
    "    --random-seed 2022 \\\n",
    "    --sample-path outputs/X2_sefa/ \\\n",
    "    --sample-cfg randomize_noise=False"
   ]
  },
  {
   "cell_type": "code",
   "execution_count": null,
   "id": "d495f457-b8da-4c1b-8556-9ca45f4bae9b",
   "metadata": {},
   "outputs": [],
   "source": []
  }
 ],
 "metadata": {
  "kernelspec": {
   "display_name": "Python 3 (ipykernel)",
   "language": "python",
   "name": "python3"
  },
  "language_info": {
   "codemirror_mode": {
    "name": "ipython",
    "version": 3
   },
   "file_extension": ".py",
   "mimetype": "text/x-python",
   "name": "python",
   "nbconvert_exporter": "python",
   "pygments_lexer": "ipython3",
   "version": "3.7.10"
  }
 },
 "nbformat": 4,
 "nbformat_minor": 5
}
