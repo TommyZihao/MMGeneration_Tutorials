{
 "cells": [
  {
   "cell_type": "markdown",
   "id": "af51c688-e6e2-402a-ba9c-5b0f77ecf3ae",
   "metadata": {},
   "source": [
    "# 扩展阅读\n",
    "\n",
    "MMgeneration主页：https://github.com/open-mmlab/mmgeneration\n",
    "\n",
    "OpenMMLab主页：https://openmmlab.com/\n",
    "\n",
    "## 视频讲解\n",
    "\n",
    "https://space.bilibili.com/1900783/channel/collectiondetail?sid=367182\n",
    "\n",
    "## 公众号博客\n",
    "\n",
    "[MMGeneration | PyTorch 零基础入门 GAN 模型\n",
    "](https://mp.weixin.qq.com/s?__biz=MzI4MDcxNTY2MQ==&mid=2247483929&idx=1&sn=956e98116e6476ba2a7bb2c1e0220174&chksm=ebb50afbdcc283ed6fdfc2353d318ec9f6870e57e4c1c7dba7004bf0ebff231b2d28a0c6f7e7&scene=21#wechat_redirect)\n",
    "\n",
    "[PyTorch 零基础入门 GAN 模型之 cGAN](https://mp.weixin.qq.com/s/o41vB-W4-2gri2Zvl6PONQ)\n",
    "\n",
    "[PyTorch 零基础入门 GAN 模型之评价指标](https://mp.weixin.qq.com/s?__biz=MzI4MDcxNTY2MQ==&mid=2247485032&idx=1&sn=3b20a89c141a69e4da1a1a9b82f59c10&chksm=ebb50e8adcc2879c1f6729bf420d6ee94b65d55b0ee3e4944a81bbe3a47b714b30c65fc47d26&scene=21#wechat_redirect)\n",
    "\n",
    "## 趣味案例\n",
    "\n",
    "\n",
    "\n",
    "古典花瓶图像生成 https://thisvesseldoesnotexist.com/#/\n",
    "\n",
    "## 生成对抗网络\n",
    "\n",
    "pix2pix简笔画变真图demo：https://affinelayer.com/pixsrv/\n",
    "\n",
    "StyleGAN2: https://arxiv.org/abs/1912.04958\n",
    "\n",
    "\n",
    "## Face Stylor 人脸风格迁移\n",
    "\n",
    "Face Stylor在线网页demo：https://app.openmmlab.com/facestylor\n",
    "\n",
    "人像自拍秒变爆款动漫画风 Face Stylor：https://www.bilibili.com/video/BV1XL4y1g7in\n",
    "\n",
    "Face Stylor主页：https://github.com/open-mmlab/MMGEN-FaceStylor\n",
    "\n",
    "世界名画风格迁移教程：https://www.bilibili.com/video/BV1i64y1B72P\n",
    "\n",
    "\n",
    "## 开源AI算法体系OpenMMLab内推\n",
    "\n",
    "OpenMMLab是一整套由中国开发者主导共建，有国际影响力的人工智能计算机视觉开源算法体系，帮你一站式解决数据标注、模型构建、训练、评估、部署、推理等人工智能领域“老大难”问题。将最前沿的计算机视觉黑科技，赋予给各行各业的每一个普通人。\n",
    "\n",
    "已有算法库包括：图像处理、图像识别分类、目标检测、目标追踪、图像分割、关键点检测（人体姿态估计）、人体动作识别、3D目标检测、3D人体姿态重构、图像生成、OCR、图像修复、超分辨率、模型压缩、模型部署、知识蒸馏、自监督、少样本、光流。\n",
    "\n",
    "我们热忱欢迎您加入OpenMMLab社群，贡献代码、文档、翻译、教程，结识各路大佬。也欢迎和我们成为同事，一起用有温度的AI，让世界充满爱。\n",
    "\n",
    "简历发hr@openmmlab.com，命名格式：张三-岗位（前/后端/测试/算法/运营/产品）-身份（实习/校招/社招）-GAN公开课\n",
    "\n",
    "详细岗位介绍：https://mp.weixin.qq.com/s/Dv03heU4G-Db6b0qgb7X_A"
   ]
  },
  {
   "cell_type": "code",
   "execution_count": null,
   "id": "f08b9dca-934b-4916-af7c-88fcf8bcfcc2",
   "metadata": {},
   "outputs": [],
   "source": []
  }
 ],
 "metadata": {
  "kernelspec": {
   "display_name": "Python 3 (ipykernel)",
   "language": "python",
   "name": "python3"
  },
  "language_info": {
   "codemirror_mode": {
    "name": "ipython",
    "version": 3
   },
   "file_extension": ".py",
   "mimetype": "text/x-python",
   "name": "python",
   "nbconvert_exporter": "python",
   "pygments_lexer": "ipython3",
   "version": "3.7.10"
  }
 },
 "nbformat": 4,
 "nbformat_minor": 5
}
