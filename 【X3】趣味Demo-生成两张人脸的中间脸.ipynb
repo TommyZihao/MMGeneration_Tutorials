{
 "cells": [
  {
   "cell_type": "markdown",
   "id": "d26e2cd2-2b04-4b7b-9aed-f615e94d166c",
   "metadata": {},
   "source": [
    "# MMGeneration 趣味Demo 生成两张人脸的中间脸\n",
    "\n",
    "> 作者：[同济子豪兄](https://space.bilibili.com/1900783)、杨逸飞 2022-4-10"
   ]
  },
  {
   "cell_type": "markdown",
   "id": "6adf0fa3-24ae-4145-adf7-0d3a0c09bbbe",
   "metadata": {},
   "source": [
    "## 进入MMGeneration主目录¶"
   ]
  },
  {
   "cell_type": "code",
   "execution_count": 1,
   "id": "b840a387-f43f-44fe-99cc-00e50e7e1b44",
   "metadata": {},
   "outputs": [],
   "source": [
    "import os\n",
    "os.chdir('mmgeneration')"
   ]
  },
  {
   "cell_type": "code",
   "execution_count": 2,
   "id": "4feb99b3-6296-4487-a6f7-9dcd77569a7e",
   "metadata": {},
   "outputs": [
    {
     "name": "stdout",
     "output_type": "stream",
     "text": [
      "--2022-05-09 09:40:06--  https://zihao-openmmlab.obs.cn-east-3.myhuaweicloud.com/20220322-mmgeneration/face/face1.png\n",
      "Connecting to 172.16.0.13:5848... connected.\n",
      "Proxy request sent, awaiting response... 200 OK\n",
      "Length: 133696 (131K) [image/png]\n",
      "Saving to: ‘data/face1.png’\n",
      "\n",
      "data/face1.png      100%[===================>] 130.56K  --.-KB/s    in 0.1s    \n",
      "\n",
      "2022-05-09 09:40:06 (913 KB/s) - ‘data/face1.png’ saved [133696/133696]\n",
      "\n",
      "--2022-05-09 09:40:06--  https://zihao-openmmlab.obs.cn-east-3.myhuaweicloud.com/20220322-mmgeneration/face/face2.png\n",
      "Connecting to 172.16.0.13:5848... connected.\n",
      "Proxy request sent, awaiting response... 200 OK\n",
      "Length: 116471 (114K) [image/png]\n",
      "Saving to: ‘data/face2.png’\n",
      "\n",
      "data/face2.png      100%[===================>] 113.74K  --.-KB/s    in 0.1s    \n",
      "\n",
      "2022-05-09 09:40:07 (937 KB/s) - ‘data/face2.png’ saved [116471/116471]\n",
      "\n"
     ]
    }
   ],
   "source": [
    "!wget https://zihao-openmmlab.obs.cn-east-3.myhuaweicloud.com/20220322-mmgeneration/face/face1.png -O data/face1.png\n",
    "!wget https://zihao-openmmlab.obs.cn-east-3.myhuaweicloud.com/20220322-mmgeneration/face/face2.png -O data/face2.png\n"
   ]
  },
  {
   "cell_type": "code",
   "execution_count": 6,
   "id": "73ef236f-22d3-4aa4-8504-7c03f3dfbdfc",
   "metadata": {},
   "outputs": [
    {
     "name": "stdout",
     "output_type": "stream",
     "text": [
      "set random seed to 2021\n",
      "load checkpoint from local path: checkpoints/stylegan2_c2_ffhq_256_b4x8_20210407_160709-7890ae1f.pth\n",
      "2022-05-09 10:42:04,848 - mmgen - INFO - Sampling model: ema\n",
      "2022-05-09 10:42:04,848 - mmgen - INFO - Switch to evaluation style mode: single\n",
      "Setting up Perceptual loss...\n",
      "...[pnet-lin, vgg16] initializing\n",
      "Loading model from: https://download.openmmlab.com/mmgen/evaluation/lpips/weights/v0.1/vgg.pth\n",
      "...Done\n",
      " perceptual: 0.6129, noise regularize:0.0000, mse: 0.1293, lr: 0.0000: 100%|█| 1\n"
     ]
    }
   ],
   "source": [
    "!python apps/stylegan_projector.py \\\n",
    "        configs/styleganv2/stylegan2_c2_ffhq_256_b4x8_800k.py \\\n",
    "        checkpoints/stylegan2_c2_ffhq_256_b4x8_20210407_160709-7890ae1f.pth \\\n",
    "        data/face1.png \\\n",
    "        data/face2.png \\\n",
    "        --total-iters 1000 \\\n",
    "        --results-path outputs/X3/"
   ]
  },
  {
   "cell_type": "code",
   "execution_count": null,
   "id": "fa997733-4968-486b-8600-969a209d8ed9",
   "metadata": {},
   "outputs": [],
   "source": []
  }
 ],
 "metadata": {
  "kernelspec": {
   "display_name": "Python 3 (ipykernel)",
   "language": "python",
   "name": "python3"
  },
  "language_info": {
   "codemirror_mode": {
    "name": "ipython",
    "version": 3
   },
   "file_extension": ".py",
   "mimetype": "text/x-python",
   "name": "python",
   "nbconvert_exporter": "python",
   "pygments_lexer": "ipython3",
   "version": "3.7.10"
  }
 },
 "nbformat": 4,
 "nbformat_minor": 5
}
