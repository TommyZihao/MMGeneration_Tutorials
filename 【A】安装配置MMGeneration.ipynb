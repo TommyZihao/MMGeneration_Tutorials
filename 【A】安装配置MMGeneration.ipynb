{
 "cells": [
  {
   "cell_type": "markdown",
   "id": "90e2984c-75b3-47f9-bf4b-f186e87dd7f0",
   "metadata": {
    "tags": []
   },
   "source": [
    "# 安装配置 MMGeneration 环境\n",
    "\n",
    "> 作者：[同济子豪兄](https://space.bilibili.com/1900783)、杨逸飞 2022-4-9\n",
    "\n",
    "MMGeneration 是 开源人工智能算法体系 OpenMMLab 的图像生成模型工具箱，尤其专注于生成对抗网络 GAN 模型。\n",
    "\n",
    "MMGeneration主页：https://github.com/open-mmlab/mmgeneration\n",
    "\n",
    "OpenMMLab主页：https://openmmlab.com/\n",
    "\n",
    "直接按顺序逐行运行本 notebook 的所有代码块，即可安装 MMCV 和 MMGeneration 环境。\n",
    "\n",
    "云GPU环境参数：GPU RTX 3060、CUDA v11.2\n",
    "\n",
    "代码在以下环境测试：[云GPU环境](https://featurize.cn?s=d7ce99f842414bfcaea5662a97581bd1)"
   ]
  },
  {
   "cell_type": "markdown",
   "id": "6fc1c686-1267-4503-b9e4-bcb188a7f974",
   "metadata": {
    "tags": []
   },
   "source": [
    "## 下载安装Pytorch、mmcv -full（大约需要两分钟）"
   ]
  },
  {
   "cell_type": "markdown",
   "id": "9292cac8-6c77-4282-bae4-1f484bfcf653",
   "metadata": {},
   "source": [
    "> 提示：以下代码运行时，若长时间运行卡着不动，可重启 kernel 后重新运行一遍"
   ]
  },
  {
   "cell_type": "code",
   "execution_count": 1,
   "id": "2fef57fc-d5f0-4cd0-a134-1f025c15439f",
   "metadata": {},
   "outputs": [
    {
     "name": "stdout",
     "output_type": "stream",
     "text": [
      "Looking in indexes: https://pypi.tuna.tsinghua.edu.cn/simple\n",
      "Looking in links: https://download.pytorch.org/whl/cu113/torch_stable.html\n",
      "Collecting install\n",
      "  Downloading https://pypi.tuna.tsinghua.edu.cn/packages/4d/c8/8cbca135f9e167810756ea2bc34b028501936675fcbd7dadccf752fa4622/install-1.3.5-py3-none-any.whl (3.2 kB)\n",
      "Collecting torch==1.10.1+cu113\n",
      "  Downloading https://download.pytorch.org/whl/cu113/torch-1.10.1%2Bcu113-cp37-cp37m-linux_x86_64.whl (1821.5 MB)\n",
      "\u001b[K     |████████████▌                   | 709.8 MB 69.8 MB/s eta 0:00:160              | 382.5 MB 111.0 MB/s eta 0:00:13"
     ]
    },
    {
     "name": "stderr",
     "output_type": "stream",
     "text": [
      "IOPub data rate exceeded.\n",
      "The Jupyter server will temporarily stop sending output\n",
      "to the client in order to avoid crashing it.\n",
      "To change this limit, set the config variable\n",
      "`--ServerApp.iopub_data_rate_limit`.\n",
      "\n",
      "Current values:\n",
      "ServerApp.iopub_data_rate_limit=1000000.0 (bytes/sec)\n",
      "ServerApp.rate_limit_window=3.0 (secs)\n",
      "\n"
     ]
    },
    {
     "name": "stdout",
     "output_type": "stream",
     "text": [
      "\u001b[K     |██████████████████▎             | 1040.2 MB 93.3 MB/s eta 0:00:09| 882.3 MB 120.1 MB/s eta 0:00:08"
     ]
    },
    {
     "name": "stderr",
     "output_type": "stream",
     "text": [
      "IOPub data rate exceeded.\n",
      "The Jupyter server will temporarily stop sending output\n",
      "to the client in order to avoid crashing it.\n",
      "To change this limit, set the config variable\n",
      "`--ServerApp.iopub_data_rate_limit`.\n",
      "\n",
      "Current values:\n",
      "ServerApp.iopub_data_rate_limit=1000000.0 (bytes/sec)\n",
      "ServerApp.rate_limit_window=3.0 (secs)\n",
      "\n"
     ]
    },
    {
     "name": "stdout",
     "output_type": "stream",
     "text": [
      "\u001b[K     |████████████████████████        | 1360.8 MB 97.1 MB/s eta 0:00:056█████         | 1309.4 MB 97.1 MB/s eta 0:00:06"
     ]
    },
    {
     "name": "stderr",
     "output_type": "stream",
     "text": [
      "IOPub data rate exceeded.\n",
      "The Jupyter server will temporarily stop sending output\n",
      "to the client in order to avoid crashing it.\n",
      "To change this limit, set the config variable\n",
      "`--ServerApp.iopub_data_rate_limit`.\n",
      "\n",
      "Current values:\n",
      "ServerApp.iopub_data_rate_limit=1000000.0 (bytes/sec)\n",
      "ServerApp.rate_limit_window=3.0 (secs)\n",
      "\n"
     ]
    },
    {
     "name": "stdout",
     "output_type": "stream",
     "text": [
      "\u001b[K     |█████████████████████████████▊  | 1689.4 MB 101.4 MB/s eta 0:00:02��██      | 1480.4 MB 114.7 MB/s eta 0:00:03     |███████████████████████████▊    | 1580.0 MB 113.8 MB/s eta 0:00:03"
     ]
    },
    {
     "name": "stderr",
     "output_type": "stream",
     "text": [
      "IOPub data rate exceeded.\n",
      "The Jupyter server will temporarily stop sending output\n",
      "to the client in order to avoid crashing it.\n",
      "To change this limit, set the config variable\n",
      "`--ServerApp.iopub_data_rate_limit`.\n",
      "\n",
      "Current values:\n",
      "ServerApp.iopub_data_rate_limit=1000000.0 (bytes/sec)\n",
      "ServerApp.rate_limit_window=3.0 (secs)\n",
      "\n"
     ]
    },
    {
     "name": "stdout",
     "output_type": "stream",
     "text": [
      "Collecting torchvision==0.11.2+cu113\n",
      "  Downloading https://download.pytorch.org/whl/cu113/torchvision-0.11.2%2Bcu113-cp37-cp37m-linux_x86_64.whl (24.6 MB)\n",
      "\u001b[K     |████████████████████████████████| 24.6 MB 75.7 MB/s eta 0:00:01\n",
      "\u001b[?25hCollecting torchaudio==0.10.1+cu113\n",
      "  Downloading https://download.pytorch.org/whl/cu113/torchaudio-0.10.1%2Bcu113-cp37-cp37m-linux_x86_64.whl (2.9 MB)\n",
      "\u001b[K     |████████████████████████████████| 2.9 MB 81.0 MB/s eta 0:00:01\n",
      "\u001b[?25hRequirement already satisfied: typing-extensions in /environment/miniconda3/lib/python3.7/site-packages (from torch==1.10.1+cu113) (4.0.1)\n",
      "Requirement already satisfied: numpy in /environment/miniconda3/lib/python3.7/site-packages (from torchvision==0.11.2+cu113) (1.21.4)\n",
      "Requirement already satisfied: pillow!=8.3.0,>=5.3.0 in /environment/miniconda3/lib/python3.7/site-packages (from torchvision==0.11.2+cu113) (8.4.0)\n",
      "Installing collected packages: torch, torchvision, torchaudio, install\n",
      "  Attempting uninstall: torch\n",
      "    Found existing installation: torch 1.10.0+cu113\n",
      "    Uninstalling torch-1.10.0+cu113:\n",
      "      Successfully uninstalled torch-1.10.0+cu113\n",
      "  Attempting uninstall: torchvision\n",
      "    Found existing installation: torchvision 0.11.1+cu113\n",
      "    Uninstalling torchvision-0.11.1+cu113:\n",
      "      Successfully uninstalled torchvision-0.11.1+cu113\n",
      "  Attempting uninstall: torchaudio\n",
      "    Found existing installation: torchaudio 0.10.0+cu113\n",
      "    Uninstalling torchaudio-0.10.0+cu113:\n",
      "      Successfully uninstalled torchaudio-0.10.0+cu113\n",
      "Successfully installed install-1.3.5 torch-1.10.1+cu113 torchaudio-0.10.1+cu113 torchvision-0.11.2+cu113\n",
      "Looking in indexes: https://pypi.tuna.tsinghua.edu.cn/simple\n",
      "Looking in links: https://download.openmmlab.com/mmcv/dist/cu113/torch1.10.0/index.html\n",
      "Collecting mmcv-full\n",
      "  Downloading https://download.openmmlab.com/mmcv/dist/cu113/torch1.10.0/mmcv_full-1.5.0-cp37-cp37m-manylinux1_x86_64.whl (47.7 MB)\n",
      "\u001b[K     |████████████████████████████████| 47.7 MB 77.2 MB/s eta 0:00:01\n",
      "\u001b[?25hRequirement already satisfied: pyyaml in /environment/miniconda3/lib/python3.7/site-packages (from mmcv-full) (6.0)\n",
      "Requirement already satisfied: Pillow in /environment/miniconda3/lib/python3.7/site-packages (from mmcv-full) (8.4.0)\n",
      "Requirement already satisfied: numpy in /environment/miniconda3/lib/python3.7/site-packages (from mmcv-full) (1.21.4)\n",
      "Requirement already satisfied: packaging in /environment/miniconda3/lib/python3.7/site-packages (from mmcv-full) (21.3)\n",
      "Requirement already satisfied: yapf in /environment/miniconda3/lib/python3.7/site-packages (from mmcv-full) (0.31.0)\n",
      "Collecting addict\n",
      "  Downloading https://pypi.tuna.tsinghua.edu.cn/packages/6a/00/b08f23b7d7e1e14ce01419a467b583edbb93c6cdb8654e54a9cc579cd61f/addict-2.4.0-py3-none-any.whl (3.8 kB)\n",
      "Requirement already satisfied: opencv-python>=3 in /environment/miniconda3/lib/python3.7/site-packages (from mmcv-full) (4.5.4.60)\n",
      "Requirement already satisfied: pyparsing!=3.0.5,>=2.0.2 in /environment/miniconda3/lib/python3.7/site-packages (from packaging->mmcv-full) (3.0.6)\n",
      "Installing collected packages: addict, mmcv-full\n",
      "Successfully installed addict-2.4.0 mmcv-full-1.5.0\n"
     ]
    }
   ],
   "source": [
    "# 安装 Pytorch\n",
    "!pip3 install install torch==1.10.1+cu113 torchvision==0.11.2+cu113 torchaudio==0.10.1+cu113 -f https://download.pytorch.org/whl/cu113/torch_stable.html\n",
    "\n",
    "# 安装 mmcv -full\n",
    "!pip install mmcv-full -f https://download.openmmlab.com/mmcv/dist/cu113/torch1.10.0/index.html"
   ]
  },
  {
   "cell_type": "markdown",
   "id": "bc540885-f779-4768-94cd-a3da173069ef",
   "metadata": {},
   "source": [
    "## 安装其它工具包(大约需要一分钟)"
   ]
  },
  {
   "cell_type": "code",
   "execution_count": 2,
   "id": "54fd8470-feb9-4f52-8aaf-257876516d29",
   "metadata": {},
   "outputs": [
    {
     "name": "stdout",
     "output_type": "stream",
     "text": [
      "Looking in indexes: https://pypi.tuna.tsinghua.edu.cn/simple\n",
      "Requirement already satisfied: ipywidgets in /environment/miniconda3/lib/python3.7/site-packages (7.6.5)\n",
      "Requirement already satisfied: tqdm in /environment/miniconda3/lib/python3.7/site-packages (4.61.2)\n",
      "Collecting imageio-ffmpeg\n",
      "  Downloading https://pypi.tuna.tsinghua.edu.cn/packages/e5/3b/fdf3e75462e93b7806ffecad6c5aa35f2cc76b9f2faaedf5e43194ceff09/imageio_ffmpeg-0.4.7-py3-none-manylinux2010_x86_64.whl (26.9 MB)\n",
      "\u001b[K     |████████████████████████████████| 26.9 MB 72.8 MB/s eta 0:00:01\n",
      "\u001b[?25hCollecting ninja\n",
      "  Downloading https://pypi.tuna.tsinghua.edu.cn/packages/52/65/d212822d0f29afecbad20cc3b3f41b8eeb4b47bea728602b8ce0b2d347f5/ninja-1.10.2.3-py2.py3-none-manylinux_2_5_x86_64.manylinux1_x86_64.whl (108 kB)\n",
      "\u001b[K     |████████████████████████████████| 108 kB 105.0 MB/s eta 0:00:01\n",
      "\u001b[?25hRequirement already satisfied: matplotlib in /environment/miniconda3/lib/python3.7/site-packages (3.5.0)\n",
      "Requirement already satisfied: numpy in /environment/miniconda3/lib/python3.7/site-packages (1.21.4)\n",
      "Requirement already satisfied: opencv-python in /environment/miniconda3/lib/python3.7/site-packages (4.5.4.60)\n",
      "Collecting prettytable\n",
      "  Downloading https://pypi.tuna.tsinghua.edu.cn/packages/5f/ab/64371af206988d7b15c8112c9c277b8eb4618397c01471e52b902a17f59c/prettytable-3.3.0-py3-none-any.whl (26 kB)\n",
      "Requirement already satisfied: nbformat>=4.2.0 in /environment/miniconda3/lib/python3.7/site-packages (from ipywidgets) (5.1.3)\n",
      "Requirement already satisfied: ipython-genutils~=0.2.0 in /environment/miniconda3/lib/python3.7/site-packages (from ipywidgets) (0.2.0)\n",
      "Requirement already satisfied: ipython>=4.0.0 in /environment/miniconda3/lib/python3.7/site-packages (from ipywidgets) (7.30.1)\n",
      "Requirement already satisfied: traitlets>=4.3.1 in /environment/miniconda3/lib/python3.7/site-packages (from ipywidgets) (5.1.1)\n",
      "Requirement already satisfied: ipykernel>=4.5.1 in /environment/miniconda3/lib/python3.7/site-packages (from ipywidgets) (6.6.0)\n",
      "Requirement already satisfied: widgetsnbextension~=3.5.0 in /environment/miniconda3/lib/python3.7/site-packages (from ipywidgets) (3.5.2)\n",
      "Requirement already satisfied: jupyterlab-widgets>=1.0.0 in /environment/miniconda3/lib/python3.7/site-packages (from ipywidgets) (1.0.2)\n",
      "Requirement already satisfied: tornado<7.0,>=4.2 in /environment/miniconda3/lib/python3.7/site-packages (from ipykernel>=4.5.1->ipywidgets) (6.1)\n",
      "Requirement already satisfied: importlib-metadata<5 in /environment/miniconda3/lib/python3.7/site-packages (from ipykernel>=4.5.1->ipywidgets) (4.8.2)\n",
      "Requirement already satisfied: argcomplete>=1.12.3 in /environment/miniconda3/lib/python3.7/site-packages (from ipykernel>=4.5.1->ipywidgets) (1.12.3)\n",
      "Requirement already satisfied: jupyter-client<8.0 in /environment/miniconda3/lib/python3.7/site-packages (from ipykernel>=4.5.1->ipywidgets) (7.1.0)\n",
      "Requirement already satisfied: matplotlib-inline<0.2.0,>=0.1.0 in /environment/miniconda3/lib/python3.7/site-packages (from ipykernel>=4.5.1->ipywidgets) (0.1.3)\n",
      "Requirement already satisfied: debugpy<2.0,>=1.0.0 in /environment/miniconda3/lib/python3.7/site-packages (from ipykernel>=4.5.1->ipywidgets) (1.5.1)\n",
      "Requirement already satisfied: zipp>=0.5 in /environment/miniconda3/lib/python3.7/site-packages (from importlib-metadata<5->ipykernel>=4.5.1->ipywidgets) (3.6.0)\n",
      "Requirement already satisfied: typing-extensions>=3.6.4 in /environment/miniconda3/lib/python3.7/site-packages (from importlib-metadata<5->ipykernel>=4.5.1->ipywidgets) (4.0.1)\n",
      "Requirement already satisfied: backcall in /environment/miniconda3/lib/python3.7/site-packages (from ipython>=4.0.0->ipywidgets) (0.2.0)\n",
      "Requirement already satisfied: jedi>=0.16 in /environment/miniconda3/lib/python3.7/site-packages (from ipython>=4.0.0->ipywidgets) (0.17.0)\n",
      "Requirement already satisfied: decorator in /environment/miniconda3/lib/python3.7/site-packages (from ipython>=4.0.0->ipywidgets) (5.1.0)\n",
      "Requirement already satisfied: prompt-toolkit!=3.0.0,!=3.0.1,<3.1.0,>=2.0.0 in /environment/miniconda3/lib/python3.7/site-packages (from ipython>=4.0.0->ipywidgets) (3.0.23)\n",
      "Requirement already satisfied: pexpect>4.3 in /environment/miniconda3/lib/python3.7/site-packages (from ipython>=4.0.0->ipywidgets) (4.8.0)\n",
      "Requirement already satisfied: pickleshare in /environment/miniconda3/lib/python3.7/site-packages (from ipython>=4.0.0->ipywidgets) (0.7.5)\n",
      "Requirement already satisfied: setuptools>=18.5 in /environment/miniconda3/lib/python3.7/site-packages (from ipython>=4.0.0->ipywidgets) (52.0.0.post20210125)\n",
      "Requirement already satisfied: pygments in /environment/miniconda3/lib/python3.7/site-packages (from ipython>=4.0.0->ipywidgets) (2.10.0)\n",
      "Requirement already satisfied: parso>=0.7.0 in /environment/miniconda3/lib/python3.7/site-packages (from jedi>=0.16->ipython>=4.0.0->ipywidgets) (0.8.3)\n",
      "Requirement already satisfied: nest-asyncio>=1.5 in /environment/miniconda3/lib/python3.7/site-packages (from jupyter-client<8.0->ipykernel>=4.5.1->ipywidgets) (1.5.4)\n",
      "Requirement already satisfied: pyzmq>=13 in /environment/miniconda3/lib/python3.7/site-packages (from jupyter-client<8.0->ipykernel>=4.5.1->ipywidgets) (22.3.0)\n",
      "Requirement already satisfied: entrypoints in /environment/miniconda3/lib/python3.7/site-packages (from jupyter-client<8.0->ipykernel>=4.5.1->ipywidgets) (0.3)\n",
      "Requirement already satisfied: python-dateutil>=2.1 in /environment/miniconda3/lib/python3.7/site-packages (from jupyter-client<8.0->ipykernel>=4.5.1->ipywidgets) (2.8.2)\n",
      "Requirement already satisfied: jupyter-core>=4.6.0 in /environment/miniconda3/lib/python3.7/site-packages (from jupyter-client<8.0->ipykernel>=4.5.1->ipywidgets) (4.9.1)\n",
      "Requirement already satisfied: jsonschema!=2.5.0,>=2.4 in /environment/miniconda3/lib/python3.7/site-packages (from nbformat>=4.2.0->ipywidgets) (4.2.1)\n",
      "Requirement already satisfied: attrs>=17.4.0 in /environment/miniconda3/lib/python3.7/site-packages (from jsonschema!=2.5.0,>=2.4->nbformat>=4.2.0->ipywidgets) (21.2.0)\n",
      "Requirement already satisfied: pyrsistent!=0.17.0,!=0.17.1,!=0.17.2,>=0.14.0 in /environment/miniconda3/lib/python3.7/site-packages (from jsonschema!=2.5.0,>=2.4->nbformat>=4.2.0->ipywidgets) (0.18.0)\n",
      "Requirement already satisfied: importlib-resources>=1.4.0 in /environment/miniconda3/lib/python3.7/site-packages (from jsonschema!=2.5.0,>=2.4->nbformat>=4.2.0->ipywidgets) (5.4.0)\n",
      "Requirement already satisfied: ptyprocess>=0.5 in /environment/miniconda3/lib/python3.7/site-packages (from pexpect>4.3->ipython>=4.0.0->ipywidgets) (0.7.0)\n",
      "Requirement already satisfied: wcwidth in /environment/miniconda3/lib/python3.7/site-packages (from prompt-toolkit!=3.0.0,!=3.0.1,<3.1.0,>=2.0.0->ipython>=4.0.0->ipywidgets) (0.2.5)\n",
      "Requirement already satisfied: six>=1.5 in /environment/miniconda3/lib/python3.7/site-packages (from python-dateutil>=2.1->jupyter-client<8.0->ipykernel>=4.5.1->ipywidgets) (1.16.0)\n",
      "Requirement already satisfied: notebook>=4.4.1 in /environment/miniconda3/lib/python3.7/site-packages (from widgetsnbextension~=3.5.0->ipywidgets) (6.4.6)\n",
      "Requirement already satisfied: nbconvert in /environment/miniconda3/lib/python3.7/site-packages (from notebook>=4.4.1->widgetsnbextension~=3.5.0->ipywidgets) (6.3.0)\n",
      "Requirement already satisfied: argon2-cffi in /environment/miniconda3/lib/python3.7/site-packages (from notebook>=4.4.1->widgetsnbextension~=3.5.0->ipywidgets) (21.2.0)\n",
      "Requirement already satisfied: jinja2 in /environment/miniconda3/lib/python3.7/site-packages (from notebook>=4.4.1->widgetsnbextension~=3.5.0->ipywidgets) (3.0.3)\n",
      "Requirement already satisfied: prometheus-client in /environment/miniconda3/lib/python3.7/site-packages (from notebook>=4.4.1->widgetsnbextension~=3.5.0->ipywidgets) (0.12.0)\n",
      "Requirement already satisfied: terminado>=0.8.3 in /environment/miniconda3/lib/python3.7/site-packages (from notebook>=4.4.1->widgetsnbextension~=3.5.0->ipywidgets) (0.12.1)\n",
      "Requirement already satisfied: Send2Trash>=1.8.0 in /environment/miniconda3/lib/python3.7/site-packages (from notebook>=4.4.1->widgetsnbextension~=3.5.0->ipywidgets) (1.8.0)\n",
      "Requirement already satisfied: packaging>=20.0 in /environment/miniconda3/lib/python3.7/site-packages (from matplotlib) (21.3)\n",
      "Requirement already satisfied: kiwisolver>=1.0.1 in /environment/miniconda3/lib/python3.7/site-packages (from matplotlib) (1.3.2)\n",
      "Requirement already satisfied: cycler>=0.10 in /environment/miniconda3/lib/python3.7/site-packages (from matplotlib) (0.11.0)\n",
      "Requirement already satisfied: fonttools>=4.22.0 in /environment/miniconda3/lib/python3.7/site-packages (from matplotlib) (4.28.3)\n",
      "Requirement already satisfied: setuptools-scm>=4 in /environment/miniconda3/lib/python3.7/site-packages (from matplotlib) (6.3.2)\n",
      "Requirement already satisfied: pyparsing>=2.2.1 in /environment/miniconda3/lib/python3.7/site-packages (from matplotlib) (3.0.6)\n",
      "Requirement already satisfied: pillow>=6.2.0 in /environment/miniconda3/lib/python3.7/site-packages (from matplotlib) (8.4.0)\n",
      "Requirement already satisfied: tomli>=1.0.0 in /environment/miniconda3/lib/python3.7/site-packages (from setuptools-scm>=4->matplotlib) (1.2.2)\n",
      "Requirement already satisfied: argon2-cffi-bindings in /environment/miniconda3/lib/python3.7/site-packages (from argon2-cffi->notebook>=4.4.1->widgetsnbextension~=3.5.0->ipywidgets) (21.2.0)\n",
      "Requirement already satisfied: cffi>=1.0.1 in /environment/miniconda3/lib/python3.7/site-packages (from argon2-cffi-bindings->argon2-cffi->notebook>=4.4.1->widgetsnbextension~=3.5.0->ipywidgets) (1.14.6)\n",
      "Requirement already satisfied: pycparser in /environment/miniconda3/lib/python3.7/site-packages (from cffi>=1.0.1->argon2-cffi-bindings->argon2-cffi->notebook>=4.4.1->widgetsnbextension~=3.5.0->ipywidgets) (2.20)\n",
      "Requirement already satisfied: MarkupSafe>=2.0 in /environment/miniconda3/lib/python3.7/site-packages (from jinja2->notebook>=4.4.1->widgetsnbextension~=3.5.0->ipywidgets) (2.0.1)\n",
      "Requirement already satisfied: bleach in /environment/miniconda3/lib/python3.7/site-packages (from nbconvert->notebook>=4.4.1->widgetsnbextension~=3.5.0->ipywidgets) (4.1.0)\n",
      "Requirement already satisfied: jupyterlab-pygments in /environment/miniconda3/lib/python3.7/site-packages (from nbconvert->notebook>=4.4.1->widgetsnbextension~=3.5.0->ipywidgets) (0.1.2)\n",
      "Requirement already satisfied: defusedxml in /environment/miniconda3/lib/python3.7/site-packages (from nbconvert->notebook>=4.4.1->widgetsnbextension~=3.5.0->ipywidgets) (0.7.1)\n",
      "Requirement already satisfied: pandocfilters>=1.4.1 in /environment/miniconda3/lib/python3.7/site-packages (from nbconvert->notebook>=4.4.1->widgetsnbextension~=3.5.0->ipywidgets) (1.5.0)\n",
      "Requirement already satisfied: mistune<2,>=0.8.1 in /environment/miniconda3/lib/python3.7/site-packages (from nbconvert->notebook>=4.4.1->widgetsnbextension~=3.5.0->ipywidgets) (0.8.4)\n",
      "Requirement already satisfied: testpath in /environment/miniconda3/lib/python3.7/site-packages (from nbconvert->notebook>=4.4.1->widgetsnbextension~=3.5.0->ipywidgets) (0.5.0)\n",
      "Requirement already satisfied: nbclient<0.6.0,>=0.5.0 in /environment/miniconda3/lib/python3.7/site-packages (from nbconvert->notebook>=4.4.1->widgetsnbextension~=3.5.0->ipywidgets) (0.5.9)\n",
      "Requirement already satisfied: webencodings in /environment/miniconda3/lib/python3.7/site-packages (from bleach->nbconvert->notebook>=4.4.1->widgetsnbextension~=3.5.0->ipywidgets) (0.5.1)\n",
      "Installing collected packages: prettytable, ninja, imageio-ffmpeg\n",
      "Successfully installed imageio-ffmpeg-0.4.7 ninja-1.10.2.3 prettytable-3.3.0\n"
     ]
    }
   ],
   "source": [
    "# 安装其它工具包\n",
    "!pip install ipywidgets tqdm imageio-ffmpeg ninja matplotlib numpy opencv-python prettytable -i https://pypi.tuna.tsinghua.edu.cn/simple"
   ]
  },
  {
   "cell_type": "markdown",
   "id": "81b9def2-c3cf-4669-84a7-5c5f6bf62353",
   "metadata": {},
   "source": [
    "## 下载 MMGeneration"
   ]
  },
  {
   "cell_type": "code",
   "execution_count": 3,
   "id": "c05a79c9-0378-4b27-aa39-aa26bb24f0c0",
   "metadata": {},
   "outputs": [],
   "source": [
    "# 删掉原有的mmgeneration文件夹（如有）\n",
    "!rm -rf mmgeneration"
   ]
  },
  {
   "cell_type": "code",
   "execution_count": 4,
   "id": "d12b6693-3b9f-46ce-b100-a9ae78c0beb2",
   "metadata": {},
   "outputs": [
    {
     "name": "stdout",
     "output_type": "stream",
     "text": [
      "Cloning into 'mmgeneration'...\n",
      "remote: Enumerating objects: 4961, done.\u001b[K\n",
      "remote: Counting objects: 100% (2262/2262), done.\u001b[K\n",
      "remote: Compressing objects: 100% (766/766), done.\u001b[K\n",
      "remote: Total 4961 (delta 1839), reused 1520 (delta 1496), pack-reused 2699\u001b[K\n",
      "Receiving objects: 100% (4961/4961), 2.49 MiB | 2.97 MiB/s, done.\n",
      "Resolving deltas: 100% (3466/3466), done.\n",
      "Updating files: 100% (508/508), done.\n"
     ]
    }
   ],
   "source": [
    "# 从github上下载最新的 mmgeneration 源代码\n",
    "!git clone https://github.com/open-mmlab/mmgeneration.git"
   ]
  },
  {
   "cell_type": "markdown",
   "id": "9751c831-6fed-4556-85c3-88974daf452b",
   "metadata": {},
   "source": [
    "## 安装 MMGeneration （大约需要2分钟）"
   ]
  },
  {
   "cell_type": "code",
   "execution_count": 3,
   "id": "36401674-1e98-433f-8a21-bac8933a3272",
   "metadata": {},
   "outputs": [],
   "source": [
    "# 进入 mmgeneration 主目录\n",
    "import os\n",
    "os.chdir('mmgeneration')"
   ]
  },
  {
   "cell_type": "code",
   "execution_count": 4,
   "id": "89438292-eefd-4789-93e6-2e407678cdf5",
   "metadata": {},
   "outputs": [
    {
     "name": "stdout",
     "output_type": "stream",
     "text": [
      "Looking in indexes: https://pypi.tuna.tsinghua.edu.cn/simple\n",
      "Collecting mmcls==0.18.0\n",
      "  Downloading https://pypi.tuna.tsinghua.edu.cn/packages/d4/81/7a5712a5b393a02a49148a184ab7dc6c192f6adeee4ce17ff1958e06b230/mmcls-0.18.0-py2.py3-none-any.whl (376 kB)\n",
      "\u001b[K     |████████████████████████████████| 376 kB 75.3 MB/s eta 0:00:01\n",
      "\u001b[?25hRequirement already satisfied: ninja in /environment/miniconda3/lib/python3.7/site-packages (from -r requirements/runtime.txt (line 2)) (1.10.2.3)\n",
      "Requirement already satisfied: numpy in /environment/miniconda3/lib/python3.7/site-packages (from -r requirements/runtime.txt (line 3)) (1.21.4)\n",
      "Requirement already satisfied: prettytable in /environment/miniconda3/lib/python3.7/site-packages (from -r requirements/runtime.txt (line 4)) (3.3.0)\n",
      "Requirement already satisfied: scikit-image in /environment/miniconda3/lib/python3.7/site-packages (from -r requirements/runtime.txt (line 5)) (0.19.0)\n",
      "Requirement already satisfied: scipy in /environment/miniconda3/lib/python3.7/site-packages (from -r requirements/runtime.txt (line 6)) (1.7.3)\n",
      "Requirement already satisfied: tqdm in /environment/miniconda3/lib/python3.7/site-packages (from -r requirements/runtime.txt (line 7)) (4.61.2)\n",
      "Requirement already satisfied: yapf in /environment/miniconda3/lib/python3.7/site-packages (from -r requirements/runtime.txt (line 8)) (0.31.0)\n",
      "Collecting codecov\n",
      "  Downloading https://pypi.tuna.tsinghua.edu.cn/packages/dc/e2/964d0881eff5a67bf5ddaea79a13c7b34a74bc4efe917b368830b475a0b9/codecov-2.1.12-py2.py3-none-any.whl (16 kB)\n",
      "Requirement already satisfied: flake8 in /environment/miniconda3/lib/python3.7/site-packages (from -r requirements/tests.txt (line 2)) (3.8.4)\n",
      "Collecting interrogate\n",
      "  Downloading https://pypi.tuna.tsinghua.edu.cn/packages/85/57/aa8632d8ff7c1b612abf0093b4dce7a1f74de852c548dbd99e1b858cf60f/interrogate-1.5.0-py3-none-any.whl (45 kB)\n",
      "\u001b[K     |████████████████████████████████| 45 kB 63.6 MB/s eta 0:00:01\n",
      "\u001b[?25hCollecting isort==4.3.21\n",
      "  Downloading https://pypi.tuna.tsinghua.edu.cn/packages/e5/b0/c121fd1fa3419ea9bfd55c7f9c4fedfec5143208d8c7ad3ce3db6c623c21/isort-4.3.21-py2.py3-none-any.whl (42 kB)\n",
      "\u001b[K     |████████████████████████████████| 42 kB 25.6 MB/s eta 0:00:01\n",
      "\u001b[?25hCollecting pytest\n",
      "  Downloading https://pypi.tuna.tsinghua.edu.cn/packages/fb/d0/bae533985f2338c5d02184b4a7083b819f6b3fc101da792e0d96e6e5299d/pytest-7.1.2-py3-none-any.whl (297 kB)\n",
      "\u001b[K     |████████████████████████████████| 297 kB 78.8 MB/s eta 0:00:01\n",
      "\u001b[?25hCollecting pytest-runner\n",
      "  Downloading https://pypi.tuna.tsinghua.edu.cn/packages/42/7b/1cec26caae4bf44bb9911e1119d5d1a35171571e100b728a2ccd8719a3b1/pytest_runner-6.0.0-py3-none-any.whl (7.2 kB)\n",
      "Requirement already satisfied: packaging in /environment/miniconda3/lib/python3.7/site-packages (from mmcls==0.18.0->-r requirements/runtime.txt (line 1)) (21.3)\n",
      "Requirement already satisfied: matplotlib in /environment/miniconda3/lib/python3.7/site-packages (from mmcls==0.18.0->-r requirements/runtime.txt (line 1)) (3.5.0)\n",
      "Requirement already satisfied: importlib-metadata in /environment/miniconda3/lib/python3.7/site-packages (from prettytable->-r requirements/runtime.txt (line 4)) (4.8.2)\n",
      "Requirement already satisfied: wcwidth in /environment/miniconda3/lib/python3.7/site-packages (from prettytable->-r requirements/runtime.txt (line 4)) (0.2.5)\n",
      "Requirement already satisfied: tifffile>=2019.7.26 in /environment/miniconda3/lib/python3.7/site-packages (from scikit-image->-r requirements/runtime.txt (line 5)) (2021.11.2)\n",
      "Requirement already satisfied: networkx>=2.2 in /environment/miniconda3/lib/python3.7/site-packages (from scikit-image->-r requirements/runtime.txt (line 5)) (2.6.3)\n",
      "Requirement already satisfied: PyWavelets>=1.1.1 in /environment/miniconda3/lib/python3.7/site-packages (from scikit-image->-r requirements/runtime.txt (line 5)) (1.2.0)\n",
      "Requirement already satisfied: pillow!=7.1.0,!=7.1.1,!=8.3.0,>=6.1.0 in /environment/miniconda3/lib/python3.7/site-packages (from scikit-image->-r requirements/runtime.txt (line 5)) (8.4.0)\n",
      "Requirement already satisfied: imageio>=2.4.1 in /environment/miniconda3/lib/python3.7/site-packages (from scikit-image->-r requirements/runtime.txt (line 5)) (2.13.3)\n",
      "Requirement already satisfied: pyparsing!=3.0.5,>=2.0.2 in /environment/miniconda3/lib/python3.7/site-packages (from packaging->mmcls==0.18.0->-r requirements/runtime.txt (line 1)) (3.0.6)\n",
      "Requirement already satisfied: requests>=2.7.9 in /environment/miniconda3/lib/python3.7/site-packages (from codecov->-r requirements/tests.txt (line 1)) (2.24.0)\n",
      "Collecting coverage\n",
      "  Downloading https://pypi.tuna.tsinghua.edu.cn/packages/a6/42/286654245c1770af4c6a9c05a8b5190a4b09235a09837032cb32492e7df6/coverage-6.3.2-cp37-cp37m-manylinux_2_5_x86_64.manylinux1_x86_64.manylinux_2_17_x86_64.manylinux2014_x86_64.whl (207 kB)\n",
      "\u001b[K     |████████████████████████████████| 207 kB 85.5 MB/s eta 0:00:01\n",
      "\u001b[?25hRequirement already satisfied: chardet<4,>=3.0.2 in /environment/miniconda3/lib/python3.7/site-packages (from requests>=2.7.9->codecov->-r requirements/tests.txt (line 1)) (3.0.4)\n",
      "Requirement already satisfied: urllib3!=1.25.0,!=1.25.1,<1.26,>=1.21.1 in /environment/miniconda3/lib/python3.7/site-packages (from requests>=2.7.9->codecov->-r requirements/tests.txt (line 1)) (1.25.11)\n",
      "Requirement already satisfied: certifi>=2017.4.17 in /environment/miniconda3/lib/python3.7/site-packages (from requests>=2.7.9->codecov->-r requirements/tests.txt (line 1)) (2021.5.30)\n",
      "Requirement already satisfied: idna<3,>=2.5 in /environment/miniconda3/lib/python3.7/site-packages (from requests>=2.7.9->codecov->-r requirements/tests.txt (line 1)) (2.10)\n",
      "Requirement already satisfied: pycodestyle<2.7.0,>=2.6.0a1 in /environment/miniconda3/lib/python3.7/site-packages (from flake8->-r requirements/tests.txt (line 2)) (2.6.0)\n",
      "Requirement already satisfied: mccabe<0.7.0,>=0.6.0 in /environment/miniconda3/lib/python3.7/site-packages (from flake8->-r requirements/tests.txt (line 2)) (0.6.1)\n",
      "Requirement already satisfied: pyflakes<2.3.0,>=2.2.0 in /environment/miniconda3/lib/python3.7/site-packages (from flake8->-r requirements/tests.txt (line 2)) (2.2.0)\n",
      "Requirement already satisfied: toml in /environment/miniconda3/lib/python3.7/site-packages (from interrogate->-r requirements/tests.txt (line 3)) (0.10.2)\n",
      "Requirement already satisfied: colorama in /environment/miniconda3/lib/python3.7/site-packages (from interrogate->-r requirements/tests.txt (line 3)) (0.4.4)\n",
      "Collecting py\n",
      "  Downloading https://pypi.tuna.tsinghua.edu.cn/packages/f6/f0/10642828a8dfb741e5f3fbaac830550a518a775c7fff6f04a007259b0548/py-1.11.0-py2.py3-none-any.whl (98 kB)\n",
      "\u001b[K     |████████████████████████████████| 98 kB 69.8 MB/s eta 0:00:01\n",
      "\u001b[?25hRequirement already satisfied: tabulate in /environment/miniconda3/lib/python3.7/site-packages (from interrogate->-r requirements/tests.txt (line 3)) (0.8.7)\n",
      "Requirement already satisfied: attrs in /environment/miniconda3/lib/python3.7/site-packages (from interrogate->-r requirements/tests.txt (line 3)) (21.2.0)\n",
      "Requirement already satisfied: click>=7.1 in /environment/miniconda3/lib/python3.7/site-packages (from interrogate->-r requirements/tests.txt (line 3)) (7.1.2)\n",
      "Requirement already satisfied: pluggy<2.0,>=0.12 in /environment/miniconda3/lib/python3.7/site-packages (from pytest->-r requirements/tests.txt (line 5)) (1.0.0)\n",
      "Requirement already satisfied: tomli>=1.0.0 in /environment/miniconda3/lib/python3.7/site-packages (from pytest->-r requirements/tests.txt (line 5)) (1.2.2)\n",
      "Collecting iniconfig\n",
      "  Downloading https://pypi.tuna.tsinghua.edu.cn/packages/9b/dd/b3c12c6d707058fa947864b67f0c4e0c39ef8610988d7baea9578f3c48f3/iniconfig-1.1.1-py2.py3-none-any.whl (5.0 kB)\n",
      "Requirement already satisfied: typing-extensions>=3.6.4 in /environment/miniconda3/lib/python3.7/site-packages (from importlib-metadata->prettytable->-r requirements/runtime.txt (line 4)) (4.0.1)\n",
      "Requirement already satisfied: zipp>=0.5 in /environment/miniconda3/lib/python3.7/site-packages (from importlib-metadata->prettytable->-r requirements/runtime.txt (line 4)) (3.6.0)\n",
      "Requirement already satisfied: kiwisolver>=1.0.1 in /environment/miniconda3/lib/python3.7/site-packages (from matplotlib->mmcls==0.18.0->-r requirements/runtime.txt (line 1)) (1.3.2)\n",
      "Requirement already satisfied: cycler>=0.10 in /environment/miniconda3/lib/python3.7/site-packages (from matplotlib->mmcls==0.18.0->-r requirements/runtime.txt (line 1)) (0.11.0)\n",
      "Requirement already satisfied: python-dateutil>=2.7 in /environment/miniconda3/lib/python3.7/site-packages (from matplotlib->mmcls==0.18.0->-r requirements/runtime.txt (line 1)) (2.8.2)\n",
      "Requirement already satisfied: fonttools>=4.22.0 in /environment/miniconda3/lib/python3.7/site-packages (from matplotlib->mmcls==0.18.0->-r requirements/runtime.txt (line 1)) (4.28.3)\n",
      "Requirement already satisfied: setuptools-scm>=4 in /environment/miniconda3/lib/python3.7/site-packages (from matplotlib->mmcls==0.18.0->-r requirements/runtime.txt (line 1)) (6.3.2)\n",
      "Requirement already satisfied: six>=1.5 in /environment/miniconda3/lib/python3.7/site-packages (from python-dateutil>=2.7->matplotlib->mmcls==0.18.0->-r requirements/runtime.txt (line 1)) (1.16.0)\n",
      "Requirement already satisfied: setuptools in /environment/miniconda3/lib/python3.7/site-packages (from setuptools-scm>=4->matplotlib->mmcls==0.18.0->-r requirements/runtime.txt (line 1)) (52.0.0.post20210125)\n",
      "Installing collected packages: py, iniconfig, coverage, pytest-runner, pytest, mmcls, isort, interrogate, codecov\n",
      "  Attempting uninstall: isort\n",
      "    Found existing installation: isort 5.10.1\n",
      "    Uninstalling isort-5.10.1:\n",
      "      Successfully uninstalled isort-5.10.1\n",
      "Successfully installed codecov-2.1.12 coverage-6.3.2 iniconfig-1.1.1 interrogate-1.5.0 isort-4.3.21 mmcls-0.18.0 py-1.11.0 pytest-7.1.2 pytest-runner-6.0.0\n",
      "Using pip 21.1.3 from /environment/miniconda3/lib/python3.7/site-packages/pip (python 3.7)\n",
      "Non-user install because site-packages writeable\n",
      "Created temporary directory: /tmp/pip-ephem-wheel-cache-f35farvt\n",
      "Created temporary directory: /tmp/pip-req-tracker-xx_c951e\n",
      "Initialized build tracking at /tmp/pip-req-tracker-xx_c951e\n",
      "Created build tracker: /tmp/pip-req-tracker-xx_c951e\n",
      "Entered build tracker: /tmp/pip-req-tracker-xx_c951e\n",
      "Created temporary directory: /tmp/pip-install-i8ck925c\n",
      "Looking in indexes: https://pypi.tuna.tsinghua.edu.cn/simple\n",
      "Obtaining file:///home/featurize/work/MMGeneration%E6%95%99%E7%A8%8B/0509/mmgeneration\n",
      "  Added file:///home/featurize/work/MMGeneration%E6%95%99%E7%A8%8B/0509/mmgeneration to build tracker '/tmp/pip-req-tracker-xx_c951e'\n",
      "    Running setup.py (path:/home/featurize/work/MMGeneration教程/0509/mmgeneration/setup.py) egg_info for package from file:///home/featurize/work/MMGeneration%E6%95%99%E7%A8%8B/0509/mmgeneration\n",
      "    Created temporary directory: /tmp/pip-pip-egg-info-sgvxfzfz\n",
      "    Running command python setup.py egg_info\n",
      "    running egg_info\n",
      "    creating /tmp/pip-pip-egg-info-sgvxfzfz/mmgen.egg-info\n",
      "    writing /tmp/pip-pip-egg-info-sgvxfzfz/mmgen.egg-info/PKG-INFO\n",
      "    writing dependency_links to /tmp/pip-pip-egg-info-sgvxfzfz/mmgen.egg-info/dependency_links.txt\n",
      "    writing requirements to /tmp/pip-pip-egg-info-sgvxfzfz/mmgen.egg-info/requires.txt\n",
      "    writing top-level names to /tmp/pip-pip-egg-info-sgvxfzfz/mmgen.egg-info/top_level.txt\n",
      "    writing manifest file '/tmp/pip-pip-egg-info-sgvxfzfz/mmgen.egg-info/SOURCES.txt'\n",
      "    reading manifest template 'MANIFEST.in'\n",
      "    warning: no files found matching 'mmgen/model-index.yml'\n",
      "    warning: no files found matching '*.py' under directory 'mmgen/configs'\n",
      "    warning: no files found matching '*.yml' under directory 'mmgen/configs'\n",
      "    warning: no files found matching '*.sh' under directory 'mmgen/tools'\n",
      "    warning: no files found matching '*.py' under directory 'mmgen/tools'\n",
      "    writing manifest file '/tmp/pip-pip-egg-info-sgvxfzfz/mmgen.egg-info/SOURCES.txt'\n",
      "  Source in /home/featurize/work/MMGeneration教程/0509/mmgeneration has version 0.7.1, which satisfies requirement mmgen==0.7.1 from file:///home/featurize/work/MMGeneration%E6%95%99%E7%A8%8B/0509/mmgeneration\n",
      "  Removed mmgen==0.7.1 from file:///home/featurize/work/MMGeneration%E6%95%99%E7%A8%8B/0509/mmgeneration from build tracker '/tmp/pip-req-tracker-xx_c951e'\n",
      "Requirement already satisfied: mmcls==0.18.0 in /environment/miniconda3/lib/python3.7/site-packages (from mmgen==0.7.1) (0.18.0)\n",
      "Requirement already satisfied: ninja in /environment/miniconda3/lib/python3.7/site-packages (from mmgen==0.7.1) (1.10.2.3)\n",
      "Requirement already satisfied: numpy in /environment/miniconda3/lib/python3.7/site-packages (from mmgen==0.7.1) (1.21.4)\n",
      "Requirement already satisfied: prettytable in /environment/miniconda3/lib/python3.7/site-packages (from mmgen==0.7.1) (3.3.0)\n",
      "Requirement already satisfied: scikit-image in /environment/miniconda3/lib/python3.7/site-packages (from mmgen==0.7.1) (0.19.0)\n",
      "Requirement already satisfied: scipy in /environment/miniconda3/lib/python3.7/site-packages (from mmgen==0.7.1) (1.7.3)\n",
      "Requirement already satisfied: tqdm in /environment/miniconda3/lib/python3.7/site-packages (from mmgen==0.7.1) (4.61.2)\n",
      "Requirement already satisfied: yapf in /environment/miniconda3/lib/python3.7/site-packages (from mmgen==0.7.1) (0.31.0)\n",
      "Requirement already satisfied: codecov in /environment/miniconda3/lib/python3.7/site-packages (from mmgen==0.7.1) (2.1.12)\n",
      "Requirement already satisfied: flake8 in /environment/miniconda3/lib/python3.7/site-packages (from mmgen==0.7.1) (3.8.4)\n",
      "Requirement already satisfied: interrogate in /environment/miniconda3/lib/python3.7/site-packages (from mmgen==0.7.1) (1.5.0)\n",
      "Requirement already satisfied: isort==4.3.21 in /environment/miniconda3/lib/python3.7/site-packages (from mmgen==0.7.1) (4.3.21)\n",
      "Requirement already satisfied: pytest in /environment/miniconda3/lib/python3.7/site-packages (from mmgen==0.7.1) (7.1.2)\n",
      "Requirement already satisfied: pytest-runner in /environment/miniconda3/lib/python3.7/site-packages (from mmgen==0.7.1) (6.0.0)\n",
      "Requirement already satisfied: packaging in /environment/miniconda3/lib/python3.7/site-packages (from mmcls==0.18.0->mmgen==0.7.1) (21.3)\n",
      "Requirement already satisfied: matplotlib in /environment/miniconda3/lib/python3.7/site-packages (from mmcls==0.18.0->mmgen==0.7.1) (3.5.0)\n",
      "Requirement already satisfied: coverage in /environment/miniconda3/lib/python3.7/site-packages (from codecov->mmgen==0.7.1) (6.3.2)\n",
      "Requirement already satisfied: requests>=2.7.9 in /environment/miniconda3/lib/python3.7/site-packages (from codecov->mmgen==0.7.1) (2.24.0)\n",
      "Requirement already satisfied: urllib3!=1.25.0,!=1.25.1,<1.26,>=1.21.1 in /environment/miniconda3/lib/python3.7/site-packages (from requests>=2.7.9->codecov->mmgen==0.7.1) (1.25.11)\n",
      "Requirement already satisfied: idna<3,>=2.5 in /environment/miniconda3/lib/python3.7/site-packages (from requests>=2.7.9->codecov->mmgen==0.7.1) (2.10)\n",
      "Requirement already satisfied: chardet<4,>=3.0.2 in /environment/miniconda3/lib/python3.7/site-packages (from requests>=2.7.9->codecov->mmgen==0.7.1) (3.0.4)\n",
      "Requirement already satisfied: certifi>=2017.4.17 in /environment/miniconda3/lib/python3.7/site-packages (from requests>=2.7.9->codecov->mmgen==0.7.1) (2021.5.30)\n",
      "Requirement already satisfied: pyflakes<2.3.0,>=2.2.0 in /environment/miniconda3/lib/python3.7/site-packages (from flake8->mmgen==0.7.1) (2.2.0)\n",
      "Requirement already satisfied: mccabe<0.7.0,>=0.6.0 in /environment/miniconda3/lib/python3.7/site-packages (from flake8->mmgen==0.7.1) (0.6.1)\n",
      "Requirement already satisfied: pycodestyle<2.7.0,>=2.6.0a1 in /environment/miniconda3/lib/python3.7/site-packages (from flake8->mmgen==0.7.1) (2.6.0)\n",
      "Requirement already satisfied: importlib-metadata in /environment/miniconda3/lib/python3.7/site-packages (from flake8->mmgen==0.7.1) (4.8.2)\n",
      "Requirement already satisfied: typing-extensions>=3.6.4 in /environment/miniconda3/lib/python3.7/site-packages (from importlib-metadata->flake8->mmgen==0.7.1) (4.0.1)\n",
      "Requirement already satisfied: zipp>=0.5 in /environment/miniconda3/lib/python3.7/site-packages (from importlib-metadata->flake8->mmgen==0.7.1) (3.6.0)\n",
      "Requirement already satisfied: toml in /environment/miniconda3/lib/python3.7/site-packages (from interrogate->mmgen==0.7.1) (0.10.2)\n",
      "Requirement already satisfied: click>=7.1 in /environment/miniconda3/lib/python3.7/site-packages (from interrogate->mmgen==0.7.1) (7.1.2)\n",
      "Requirement already satisfied: attrs in /environment/miniconda3/lib/python3.7/site-packages (from interrogate->mmgen==0.7.1) (21.2.0)\n",
      "Requirement already satisfied: py in /environment/miniconda3/lib/python3.7/site-packages (from interrogate->mmgen==0.7.1) (1.11.0)\n",
      "Requirement already satisfied: colorama in /environment/miniconda3/lib/python3.7/site-packages (from interrogate->mmgen==0.7.1) (0.4.4)\n",
      "Requirement already satisfied: tabulate in /environment/miniconda3/lib/python3.7/site-packages (from interrogate->mmgen==0.7.1) (0.8.7)\n",
      "Requirement already satisfied: fonttools>=4.22.0 in /environment/miniconda3/lib/python3.7/site-packages (from matplotlib->mmcls==0.18.0->mmgen==0.7.1) (4.28.3)\n",
      "Requirement already satisfied: kiwisolver>=1.0.1 in /environment/miniconda3/lib/python3.7/site-packages (from matplotlib->mmcls==0.18.0->mmgen==0.7.1) (1.3.2)\n",
      "Requirement already satisfied: cycler>=0.10 in /environment/miniconda3/lib/python3.7/site-packages (from matplotlib->mmcls==0.18.0->mmgen==0.7.1) (0.11.0)\n",
      "Requirement already satisfied: python-dateutil>=2.7 in /environment/miniconda3/lib/python3.7/site-packages (from matplotlib->mmcls==0.18.0->mmgen==0.7.1) (2.8.2)\n",
      "Requirement already satisfied: setuptools-scm>=4 in /environment/miniconda3/lib/python3.7/site-packages (from matplotlib->mmcls==0.18.0->mmgen==0.7.1) (6.3.2)\n",
      "Requirement already satisfied: pyparsing>=2.2.1 in /environment/miniconda3/lib/python3.7/site-packages (from matplotlib->mmcls==0.18.0->mmgen==0.7.1) (3.0.6)\n",
      "Requirement already satisfied: pillow>=6.2.0 in /environment/miniconda3/lib/python3.7/site-packages (from matplotlib->mmcls==0.18.0->mmgen==0.7.1) (8.4.0)\n",
      "Requirement already satisfied: six>=1.5 in /environment/miniconda3/lib/python3.7/site-packages (from python-dateutil>=2.7->matplotlib->mmcls==0.18.0->mmgen==0.7.1) (1.16.0)\n",
      "Requirement already satisfied: tomli>=1.0.0 in /environment/miniconda3/lib/python3.7/site-packages (from setuptools-scm>=4->matplotlib->mmcls==0.18.0->mmgen==0.7.1) (1.2.2)\n",
      "Requirement already satisfied: setuptools in /environment/miniconda3/lib/python3.7/site-packages (from setuptools-scm>=4->matplotlib->mmcls==0.18.0->mmgen==0.7.1) (52.0.0.post20210125)\n",
      "Requirement already satisfied: wcwidth in /environment/miniconda3/lib/python3.7/site-packages (from prettytable->mmgen==0.7.1) (0.2.5)\n",
      "Requirement already satisfied: iniconfig in /environment/miniconda3/lib/python3.7/site-packages (from pytest->mmgen==0.7.1) (1.1.1)\n",
      "Requirement already satisfied: pluggy<2.0,>=0.12 in /environment/miniconda3/lib/python3.7/site-packages (from pytest->mmgen==0.7.1) (1.0.0)\n",
      "Requirement already satisfied: PyWavelets>=1.1.1 in /environment/miniconda3/lib/python3.7/site-packages (from scikit-image->mmgen==0.7.1) (1.2.0)\n",
      "Requirement already satisfied: tifffile>=2019.7.26 in /environment/miniconda3/lib/python3.7/site-packages (from scikit-image->mmgen==0.7.1) (2021.11.2)\n",
      "Requirement already satisfied: imageio>=2.4.1 in /environment/miniconda3/lib/python3.7/site-packages (from scikit-image->mmgen==0.7.1) (2.13.3)\n",
      "Requirement already satisfied: networkx>=2.2 in /environment/miniconda3/lib/python3.7/site-packages (from scikit-image->mmgen==0.7.1) (2.6.3)\n",
      "Created temporary directory: /tmp/pip-unpack-cr4nn_3m\n",
      "Installing collected packages: mmgen\n",
      "  Running setup.py develop for mmgen\n",
      "    Running command /environment/miniconda3/bin/python -c 'import io, os, sys, setuptools, tokenize; sys.argv[0] = '\"'\"'/home/featurize/work/MMGeneration教程/0509/mmgeneration/setup.py'\"'\"'; __file__='\"'\"'/home/featurize/work/MMGeneration教程/0509/mmgeneration/setup.py'\"'\"';f = getattr(tokenize, '\"'\"'open'\"'\"', open)(__file__) if os.path.exists(__file__) else io.StringIO('\"'\"'from setuptools import setup; setup()'\"'\"');code = f.read().replace('\"'\"'\\r\\n'\"'\"', '\"'\"'\\n'\"'\"');f.close();exec(compile(code, __file__, '\"'\"'exec'\"'\"'))' develop --no-deps\n",
      "    running develop\n",
      "    running egg_info\n",
      "    writing mmgen.egg-info/PKG-INFO\n",
      "    writing dependency_links to mmgen.egg-info/dependency_links.txt\n",
      "    writing requirements to mmgen.egg-info/requires.txt\n",
      "    writing top-level names to mmgen.egg-info/top_level.txt\n",
      "    reading manifest template 'MANIFEST.in'\n",
      "    warning: no files found matching 'mmgen/model-index.yml'\n",
      "    warning: no files found matching '*.py' under directory 'mmgen/configs'\n",
      "    warning: no files found matching '*.yml' under directory 'mmgen/configs'\n",
      "    warning: no files found matching '*.sh' under directory 'mmgen/tools'\n",
      "    warning: no files found matching '*.py' under directory 'mmgen/tools'\n",
      "    writing manifest file 'mmgen.egg-info/SOURCES.txt'\n",
      "    running build_ext\n",
      "    Creating /environment/miniconda3/lib/python3.7/site-packages/mmgen.egg-link (link to .)\n",
      "    Adding mmgen 0.7.1 to easy-install.pth file\n",
      "\n",
      "    Installed /home/featurize/work/MMGeneration教程/0509/mmgeneration\n",
      "Successfully installed mmgen-0.7.1\n",
      "Removed build tracker: '/tmp/pip-req-tracker-xx_c951e'\n"
     ]
    }
   ],
   "source": [
    "!pip install -r requirements.txt\n",
    "!pip install -v -e ."
   ]
  },
  {
   "cell_type": "markdown",
   "id": "98578099-afa6-432c-8831-8635632a7a33",
   "metadata": {},
   "source": [
    "## 创建一些文件夹"
   ]
  },
  {
   "cell_type": "code",
   "execution_count": null,
   "id": "dc434b4c-1ceb-4122-aee8-bcf52f46d23a",
   "metadata": {},
   "outputs": [],
   "source": [
    "# 创建 outputs 文件夹，用于存放生成结果\n",
    "os.mkdir('outputs')\n",
    "\n",
    "# 创建 data 文件夹，用于存放图像数据集\n",
    "os.mkdir('data')\n",
    "\n",
    "# 创建 checkpoints 文件夹，用于存放模型权重文件\n",
    "os.mkdir('checkpoints')\n",
    "\n",
    "# 创建 work_dirs 文件夹，用于存放训练结果及趣味 demo 输出结果\n",
    "os.mkdir('work_dirs')"
   ]
  },
  {
   "cell_type": "markdown",
   "id": "3abf5a60-0407-4709-987b-f7ab2bdafacb",
   "metadata": {},
   "source": [
    "## 下载一些图像和视频素材至`data`目录"
   ]
  },
  {
   "cell_type": "code",
   "execution_count": null,
   "id": "51987435-744d-41ba-bf08-daacd7c28648",
   "metadata": {},
   "outputs": [],
   "source": [
    "## 一些风景照素材，拍摄者：同济子豪兄\n",
    "# 同济大学嘉定校区\n",
    "!wget https://zihao-openmmlab.obs.cn-east-3.myhuaweicloud.com/20220322-mmgeneration/images/tongji_campus.jpg -O data/tongji_campus.jpg\n",
    "!wget https://zihao-openmmlab.obs.cn-east-3.myhuaweicloud.com/20220322-mmgeneration/images/tongji_library.jpg -O data/tongji_library.jpg\n",
    "!wget https://zihao-openmmlab.obs.cn-east-3.myhuaweicloud.com/20220322-mmgeneration/images/tongji_video.mp4 -O data/tongji_video.mp4\n",
    "\n",
    "# 舟山群岛-枸杞岛\n",
    "!wget https://zihao-openmmlab.obs.cn-east-3.myhuaweicloud.com/20220322-mmgeneration/images/gouqi_island.jpg -O data/gouqi_island.jpg\n",
    "# 玉龙雪山\n",
    "!wget https://zihao-openmmlab.obs.cn-east-3.myhuaweicloud.com/20220322-mmgeneration/images/yulong_mountain.jpg -O data/yulong_mountain.jpg\n",
    "!wget https://zihao-openmmlab.obs.cn-east-3.myhuaweicloud.com/20220322-mmgeneration/images/yulong_mountain.mp4 -O data/yulong_mountain.mp4\n",
    "# 五台山\n",
    "!wget https://zihao-openmmlab.obs.cn-east-3.myhuaweicloud.com/20220322-mmgeneration/images/wutai_mountain.jpg -O data/wutai_mountain.jpg\n",
    "\n",
    "# 一些摄影作品，拍摄者：张子豪\n",
    "# 创建 memory 文件夹，\n",
    "!mkdir data/memory\n",
    "# 旧金山圆石滩高尔夫球场\n",
    "!wget https://zihao-openmmlab.obs.cn-east-3.myhuaweicloud.com/20220322-mmgeneration/memory/memory_san.jpg -O data/memory/memory_san.jpg \n",
    "# 南京玄武湖公园\n",
    "!wget https://zihao-openmmlab.obs.cn-east-3.myhuaweicloud.com/20220322-mmgeneration/memory/memory_nanjing.jpg -O data/memory/memory_nanjing.jpg\n",
    "# 重庆鹅岭公园\n",
    "!wget https://zihao-openmmlab.obs.cn-east-3.myhuaweicloud.com/20220322-mmgeneration/memory/memory_chongqing.jpg -O data/memory/memory_chongqing.jpg\n",
    "# 同济大学嘉定校区\n",
    "!wget https://zihao-openmmlab.obs.cn-east-3.myhuaweicloud.com/20220322-mmgeneration/memory/memory_tongji1.jpg -O data/memory/memory_tongji1.jpg\n",
    "!wget https://zihao-openmmlab.obs.cn-east-3.myhuaweicloud.com/20220322-mmgeneration/memory/memory_tongji2.jpg -O data/memory/memory_tongji2.jpg\n",
    "!wget https://zihao-openmmlab.obs.cn-east-3.myhuaweicloud.com/20220322-mmgeneration/memory/memory_tongji3.jpg -O data/memory/memory_tongji3.jpg\n",
    "\n",
    "## 素材图片，来源：pexel\n",
    "!wget https://zihao-openmmlab.obs.cn-east-3.myhuaweicloud.com/20220322-mmgeneration/images/horse.jpeg -O data/horse.jpeg\n",
    "!wget https://zihao-openmmlab.obs.cn-east-3.myhuaweicloud.com/20220322-mmgeneration/images/zebras.jpeg -O data/zebras.jpeg\n"
   ]
  },
  {
   "cell_type": "markdown",
   "id": "92bd845d-d076-403e-8241-6faa44565fbb",
   "metadata": {},
   "source": [
    "## 检查是否安装成功"
   ]
  },
  {
   "cell_type": "code",
   "execution_count": 6,
   "id": "d87c61c2-a8bf-47d9-b9a8-4ca4e06b6a76",
   "metadata": {},
   "outputs": [
    {
     "name": "stdout",
     "output_type": "stream",
     "text": [
      "mmgen载入成功！\n"
     ]
    }
   ],
   "source": [
    "import torch, torchvision\n",
    "\n",
    "import mmcv\n",
    "\n",
    "from mmgen.apis import init_model, sample_unconditional_model\n",
    "\n",
    "print('mmgen载入成功！')"
   ]
  },
  {
   "cell_type": "markdown",
   "id": "bc8e0c77-8434-4749-878c-c19ace15ede4",
   "metadata": {},
   "source": [
    "如果代码没有中断报错，输出`mmgen载入成功！`，则说明 MMGeneration 安装成功！"
   ]
  },
  {
   "cell_type": "code",
   "execution_count": 7,
   "id": "bbb86f0c-97ea-4b58-8cc9-1f7d21647af3",
   "metadata": {},
   "outputs": [
    {
     "name": "stdout",
     "output_type": "stream",
     "text": [
      "load checkpoint from http path: https://download.openmmlab.com/mmgen/stylegan2/official_weights/stylegan2-church-config-f-official_20210327_172657-1d42b7d1.pth\n"
     ]
    },
    {
     "name": "stderr",
     "output_type": "stream",
     "text": [
      "Downloading: \"https://download.openmmlab.com/mmgen/stylegan2/official_weights/stylegan2-church-config-f-official_20210327_172657-1d42b7d1.pth\" to /home/featurize/.cache/torch/hub/checkpoints/stylegan2-church-config-f-official_20210327_172657-1d42b7d1.pth\n"
     ]
    },
    {
     "data": {
      "application/vnd.jupyter.widget-view+json": {
       "model_id": "d9beff81495a420cb6238788777b515f",
       "version_major": 2,
       "version_minor": 0
      },
      "text/plain": [
       "  0%|          | 0.00/341M [00:00<?, ?B/s]"
      ]
     },
     "metadata": {},
     "output_type": "display_data"
    },
    {
     "name": "stderr",
     "output_type": "stream",
     "text": [
      "2022-05-09 09:42:09,133 - mmgen - INFO - Switch to evaluation style mode: single\n",
      "2022-05-09 09:42:09,135 - mmgen - INFO - Switch to evaluation style mode: single\n"
     ]
    }
   ],
   "source": [
    "# 指定 config配置文件路径\n",
    "config_file = 'configs/styleganv2/stylegan2_c2_lsun-church_256_b4x8_800k.py'\n",
    "\n",
    "# 指定预训练模型权重文件路径\n",
    "checkpoint_file = 'https://download.openmmlab.com/mmgen/stylegan2/official_weights/stylegan2-church-config-f-official_20210327_172657-1d42b7d1.pth'\n",
    "\n",
    "# 初始化generatvie\n",
    "model = init_model(config_file, checkpoint_file, device='cuda:0')\n",
    "\n",
    "# 生成图像测试\n",
    "fake_imgs = sample_unconditional_model(model, 4)"
   ]
  },
  {
   "cell_type": "code",
   "execution_count": 8,
   "id": "afce9946-f95e-4f01-8938-a0b55fe61049",
   "metadata": {},
   "outputs": [
    {
     "data": {
      "text/plain": [
       "torch.Size([4, 3, 256, 256])"
      ]
     },
     "execution_count": 8,
     "metadata": {},
     "output_type": "execute_result"
    }
   ],
   "source": [
    "fake_imgs.shape"
   ]
  },
  {
   "cell_type": "markdown",
   "id": "e783f7ca-41d1-4195-8b43-2b0525c45a53",
   "metadata": {},
   "source": [
    "如果代码没有中断报错，模型权重下载完成，且输出`torch.Size([4, 3, 256, 256])`，则说明 MMGeneration 运行成功，可以开始后续的代码实战了!"
   ]
  }
 ],
 "metadata": {
  "kernelspec": {
   "display_name": "Python 3 (ipykernel)",
   "language": "python",
   "name": "python3"
  },
  "language_info": {
   "codemirror_mode": {
    "name": "ipython",
    "version": 3
   },
   "file_extension": ".py",
   "mimetype": "text/x-python",
   "name": "python",
   "nbconvert_exporter": "python",
   "pygments_lexer": "ipython3",
   "version": "3.7.10"
  }
 },
 "nbformat": 4,
 "nbformat_minor": 5
}
